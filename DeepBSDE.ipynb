{
 "cells": [
  {
   "cell_type": "markdown",
   "id": "49398c8a-17d3-4b35-ab27-35963e0a04c9",
   "metadata": {},
   "source": [
    "# Projet du Cours : Méthodes numériques probabilistes avancées en finance - M2MO 2021-2022"
   ]
  },
  {
   "cell_type": "markdown",
   "id": "afddc5d2-88d9-463a-9aff-97b051e84687",
   "metadata": {},
   "source": [
    "## Projet 2 : Méthode de Machine Learning pour les EDSRs"
   ]
  },
  {
   "cell_type": "markdown",
   "id": "4ad76267-2f04-4c6c-9b27-43861ed49d04",
   "metadata": {},
   "source": [
    "- Nom et prénom: **UTH Rathea**\n",
    "\n",
    "- NumeroEtudiant: **22106760**\n",
    "\n",
    "- Nom et prénom: **Nouredine Larbi**\n",
    "\n",
    "- NumeroEtudiant: **22118105**"
   ]
  },
  {
   "cell_type": "markdown",
   "id": "4e20e82e-802b-4928-9235-c09f2b8ec41f",
   "metadata": {},
   "source": [
    "### Importing libraries"
   ]
  },
  {
   "cell_type": "code",
   "execution_count": 409,
   "id": "4c3c1943-73f9-430c-9244-48442138eaf7",
   "metadata": {},
   "outputs": [],
   "source": [
    "import logging\n",
    "import pandas as pd\n",
    "import numpy as np\n",
    "import glob\n",
    "import matplotlib.pyplot as plt\n",
    "\n",
    "plt.style.use('ggplot')\n",
    "%matplotlib inline"
   ]
  },
  {
   "cell_type": "code",
   "execution_count": 410,
   "id": "19fa98de-dcee-4295-bcde-80be12cc121d",
   "metadata": {},
   "outputs": [],
   "source": [
    "logging.basicConfig(format='%(asctime)s - %(levelname)s - %(message)s', level=logging.INFO)"
   ]
  },
  {
   "cell_type": "markdown",
   "id": "55e2e3df-6cce-43ed-8be9-e67e84ebd542",
   "metadata": {},
   "source": [
    "### Test on the fifth result of Nonlinear Black-Scholes Equation with Default Risk "
   ]
  },
  {
   "cell_type": "code",
   "execution_count": 411,
   "id": "cffc685a-804f-4a95-9d4e-ef3f5b08a648",
   "metadata": {},
   "outputs": [
    {
     "data": {
      "text/plain": [
       "(61, 4)"
      ]
     },
     "execution_count": 411,
     "metadata": {},
     "output_type": "execute_result"
    }
   ],
   "source": [
    "data = pd.read_csv(\"logs/pricing_default_risk_d100_result5.csv\")\n",
    "data.shape"
   ]
  },
  {
   "cell_type": "code",
   "execution_count": 412,
   "id": "3ac9d91e-6a27-4025-831d-6f53bc2fd267",
   "metadata": {},
   "outputs": [
    {
     "data": {
      "text/html": [
       "<div>\n",
       "<style scoped>\n",
       "    .dataframe tbody tr th:only-of-type {\n",
       "        vertical-align: middle;\n",
       "    }\n",
       "\n",
       "    .dataframe tbody tr th {\n",
       "        vertical-align: top;\n",
       "    }\n",
       "\n",
       "    .dataframe thead th {\n",
       "        text-align: right;\n",
       "    }\n",
       "</style>\n",
       "<table border=\"1\" class=\"dataframe\">\n",
       "  <thead>\n",
       "    <tr style=\"text-align: right;\">\n",
       "      <th></th>\n",
       "      <th>step</th>\n",
       "      <th>loss_function</th>\n",
       "      <th>target_value</th>\n",
       "      <th>elapsed_time</th>\n",
       "    </tr>\n",
       "  </thead>\n",
       "  <tbody>\n",
       "    <tr>\n",
       "      <th>0</th>\n",
       "      <td>0</td>\n",
       "      <td>152.9920</td>\n",
       "      <td>45.5438</td>\n",
       "      <td>0</td>\n",
       "    </tr>\n",
       "    <tr>\n",
       "      <th>1</th>\n",
       "      <td>100</td>\n",
       "      <td>134.3390</td>\n",
       "      <td>46.3317</td>\n",
       "      <td>28</td>\n",
       "    </tr>\n",
       "    <tr>\n",
       "      <th>2</th>\n",
       "      <td>200</td>\n",
       "      <td>118.5410</td>\n",
       "      <td>47.0730</td>\n",
       "      <td>34</td>\n",
       "    </tr>\n",
       "    <tr>\n",
       "      <th>3</th>\n",
       "      <td>300</td>\n",
       "      <td>105.2000</td>\n",
       "      <td>47.7750</td>\n",
       "      <td>41</td>\n",
       "    </tr>\n",
       "    <tr>\n",
       "      <th>4</th>\n",
       "      <td>400</td>\n",
       "      <td>93.7982</td>\n",
       "      <td>48.4418</td>\n",
       "      <td>48</td>\n",
       "    </tr>\n",
       "  </tbody>\n",
       "</table>\n",
       "</div>"
      ],
      "text/plain": [
       "   step  loss_function  target_value  elapsed_time\n",
       "0     0       152.9920       45.5438             0\n",
       "1   100       134.3390       46.3317            28\n",
       "2   200       118.5410       47.0730            34\n",
       "3   300       105.2000       47.7750            41\n",
       "4   400        93.7982       48.4418            48"
      ]
     },
     "execution_count": 412,
     "metadata": {},
     "output_type": "execute_result"
    }
   ],
   "source": [
    "data.head()"
   ]
  },
  {
   "cell_type": "code",
   "execution_count": 413,
   "id": "853a172b-b131-4bfa-b753-f502ce8292fa",
   "metadata": {},
   "outputs": [
    {
     "data": {
      "text/html": [
       "<div>\n",
       "<style scoped>\n",
       "    .dataframe tbody tr th:only-of-type {\n",
       "        vertical-align: middle;\n",
       "    }\n",
       "\n",
       "    .dataframe tbody tr th {\n",
       "        vertical-align: top;\n",
       "    }\n",
       "\n",
       "    .dataframe thead th {\n",
       "        text-align: right;\n",
       "    }\n",
       "</style>\n",
       "<table border=\"1\" class=\"dataframe\">\n",
       "  <thead>\n",
       "    <tr style=\"text-align: right;\">\n",
       "      <th></th>\n",
       "      <th>step</th>\n",
       "      <th>loss_function</th>\n",
       "      <th>target_value</th>\n",
       "      <th>elapsed_time</th>\n",
       "    </tr>\n",
       "  </thead>\n",
       "  <tbody>\n",
       "    <tr>\n",
       "      <th>56</th>\n",
       "      <td>5600</td>\n",
       "      <td>26.0277</td>\n",
       "      <td>57.0334</td>\n",
       "      <td>427</td>\n",
       "    </tr>\n",
       "    <tr>\n",
       "      <th>57</th>\n",
       "      <td>5700</td>\n",
       "      <td>25.9709</td>\n",
       "      <td>57.0908</td>\n",
       "      <td>437</td>\n",
       "    </tr>\n",
       "    <tr>\n",
       "      <th>58</th>\n",
       "      <td>5800</td>\n",
       "      <td>25.9224</td>\n",
       "      <td>57.0591</td>\n",
       "      <td>447</td>\n",
       "    </tr>\n",
       "    <tr>\n",
       "      <th>59</th>\n",
       "      <td>5900</td>\n",
       "      <td>26.0108</td>\n",
       "      <td>57.0326</td>\n",
       "      <td>454</td>\n",
       "    </tr>\n",
       "    <tr>\n",
       "      <th>60</th>\n",
       "      <td>6000</td>\n",
       "      <td>25.9768</td>\n",
       "      <td>57.0207</td>\n",
       "      <td>462</td>\n",
       "    </tr>\n",
       "  </tbody>\n",
       "</table>\n",
       "</div>"
      ],
      "text/plain": [
       "    step  loss_function  target_value  elapsed_time\n",
       "56  5600        26.0277       57.0334           427\n",
       "57  5700        25.9709       57.0908           437\n",
       "58  5800        25.9224       57.0591           447\n",
       "59  5900        26.0108       57.0326           454\n",
       "60  6000        25.9768       57.0207           462"
      ]
     },
     "execution_count": 413,
     "metadata": {},
     "output_type": "execute_result"
    }
   ],
   "source": [
    "data.tail()"
   ]
  },
  {
   "cell_type": "code",
   "execution_count": 493,
   "id": "9583798a-d0d1-49af-a036-5d463b72a93c",
   "metadata": {},
   "outputs": [
    {
     "data": {
      "text/plain": [
       "14133"
      ]
     },
     "execution_count": 493,
     "metadata": {},
     "output_type": "execute_result"
    }
   ],
   "source": [
    "# total execution time for 1 run (in seconds)\n",
    "sum(data.elapsed_time)"
   ]
  },
  {
   "cell_type": "markdown",
   "id": "5610d42a-0c2b-4fd9-a384-4605004fb406",
   "metadata": {},
   "source": [
    "# Example 1 :"
   ]
  },
  {
   "cell_type": "markdown",
   "id": "fd760cbb-4b38-40df-aeb0-2cc215a3b45d",
   "metadata": {},
   "source": [
    "### Results of Nonlinear Black-Scholes Equation with Default Risk with 5 tests independent"
   ]
  },
  {
   "cell_type": "code",
   "execution_count": 415,
   "id": "8b4fbdd5-eced-4d5a-bb40-373bb4c8d143",
   "metadata": {},
   "outputs": [],
   "source": [
    "def create_dataset(filename):\n",
    "    path = \"logs/\"\n",
    "    list_files = sorted(glob.glob(path + filename))\n",
    "\n",
    "    df = []\n",
    "    for file in list_files:\n",
    "        read_f = pd.read_csv(file)\n",
    "        read_f = read_f.drop(['loss_function', 'elapsed_time'], axis=1)\n",
    "        df.append(read_f)\n",
    "    \n",
    "    col = [\"step\"]\n",
    "    data = pd.DataFrame(columns = col)\n",
    "\n",
    "    for file in df:\n",
    "        data = data.merge(file, on=['step'], how='outer', suffixes=('_x', '_y'))\n",
    "\n",
    "    data.columns = ['step','target_value_1', 'target_value_2',\n",
    "              'target_value_3', 'target_value_4', 'target_value_5']\n",
    "\n",
    "    data['target_value_mean'] = data.loc[: , data.columns != 'step'].mean(axis=1)\n",
    "    data['target_value_sd'] = data.loc[: , data.columns != 'step'].std(axis=1)\n",
    "\n",
    "    return data"
   ]
  },
  {
   "cell_type": "code",
   "execution_count": 416,
   "id": "59373569-33c1-47d5-9edd-1879c255956d",
   "metadata": {},
   "outputs": [],
   "source": [
    "def total_time_execution_last(filename):\n",
    "    path = \"logs/\"\n",
    "    list_files = sorted(glob.glob(path + filename))\n",
    "\n",
    "    res = []\n",
    "    for file in list_files:\n",
    "        read_f = pd.read_csv(file)\n",
    "        size = read_f.shape[0]\n",
    "        tmp = read_f[\"elapsed_time\"].iloc[size-1]\n",
    "        res.append(tmp)\n",
    "        \n",
    "    return sum(res)"
   ]
  },
  {
   "cell_type": "code",
   "execution_count": 418,
   "id": "7d62cb05-2c84-4d50-ad1d-48fc42a89a85",
   "metadata": {},
   "outputs": [
    {
     "data": {
      "text/plain": [
       "(61, 8)"
      ]
     },
     "execution_count": 418,
     "metadata": {},
     "output_type": "execute_result"
    }
   ],
   "source": [
    "BS_data = create_dataset(filename=\"pricing_default_risk_d100_result*.csv\")\n",
    "BS_data.shape"
   ]
  },
  {
   "cell_type": "code",
   "execution_count": 419,
   "id": "c5d420ce-078a-49cc-aa7e-6cbe922885d0",
   "metadata": {},
   "outputs": [
    {
     "data": {
      "text/html": [
       "<div>\n",
       "<style scoped>\n",
       "    .dataframe tbody tr th:only-of-type {\n",
       "        vertical-align: middle;\n",
       "    }\n",
       "\n",
       "    .dataframe tbody tr th {\n",
       "        vertical-align: top;\n",
       "    }\n",
       "\n",
       "    .dataframe thead th {\n",
       "        text-align: right;\n",
       "    }\n",
       "</style>\n",
       "<table border=\"1\" class=\"dataframe\">\n",
       "  <thead>\n",
       "    <tr style=\"text-align: right;\">\n",
       "      <th></th>\n",
       "      <th>step</th>\n",
       "      <th>target_value_1</th>\n",
       "      <th>target_value_2</th>\n",
       "      <th>target_value_3</th>\n",
       "      <th>target_value_4</th>\n",
       "      <th>target_value_5</th>\n",
       "      <th>target_value_mean</th>\n",
       "      <th>target_value_sd</th>\n",
       "    </tr>\n",
       "  </thead>\n",
       "  <tbody>\n",
       "    <tr>\n",
       "      <th>0</th>\n",
       "      <td>0</td>\n",
       "      <td>45.4378</td>\n",
       "      <td>46.7497</td>\n",
       "      <td>42.7574</td>\n",
       "      <td>47.6805</td>\n",
       "      <td>45.5438</td>\n",
       "      <td>45.63384</td>\n",
       "      <td>1.658578</td>\n",
       "    </tr>\n",
       "    <tr>\n",
       "      <th>1</th>\n",
       "      <td>100</td>\n",
       "      <td>46.2225</td>\n",
       "      <td>47.5327</td>\n",
       "      <td>43.5506</td>\n",
       "      <td>48.4612</td>\n",
       "      <td>46.3317</td>\n",
       "      <td>46.41974</td>\n",
       "      <td>1.654380</td>\n",
       "    </tr>\n",
       "    <tr>\n",
       "      <th>2</th>\n",
       "      <td>200</td>\n",
       "      <td>46.9637</td>\n",
       "      <td>48.2700</td>\n",
       "      <td>44.3206</td>\n",
       "      <td>49.1991</td>\n",
       "      <td>47.0730</td>\n",
       "      <td>47.16528</td>\n",
       "      <td>1.643057</td>\n",
       "    </tr>\n",
       "    <tr>\n",
       "      <th>3</th>\n",
       "      <td>300</td>\n",
       "      <td>47.6667</td>\n",
       "      <td>48.9734</td>\n",
       "      <td>45.0594</td>\n",
       "      <td>49.8852</td>\n",
       "      <td>47.7750</td>\n",
       "      <td>47.87194</td>\n",
       "      <td>1.626550</td>\n",
       "    </tr>\n",
       "    <tr>\n",
       "      <th>4</th>\n",
       "      <td>400</td>\n",
       "      <td>48.3413</td>\n",
       "      <td>49.6289</td>\n",
       "      <td>45.7751</td>\n",
       "      <td>50.5267</td>\n",
       "      <td>48.4418</td>\n",
       "      <td>48.54276</td>\n",
       "      <td>1.601652</td>\n",
       "    </tr>\n",
       "  </tbody>\n",
       "</table>\n",
       "</div>"
      ],
      "text/plain": [
       "   step  target_value_1  target_value_2  target_value_3  target_value_4  \\\n",
       "0     0         45.4378         46.7497         42.7574         47.6805   \n",
       "1   100         46.2225         47.5327         43.5506         48.4612   \n",
       "2   200         46.9637         48.2700         44.3206         49.1991   \n",
       "3   300         47.6667         48.9734         45.0594         49.8852   \n",
       "4   400         48.3413         49.6289         45.7751         50.5267   \n",
       "\n",
       "   target_value_5  target_value_mean  target_value_sd  \n",
       "0         45.5438           45.63384         1.658578  \n",
       "1         46.3317           46.41974         1.654380  \n",
       "2         47.0730           47.16528         1.643057  \n",
       "3         47.7750           47.87194         1.626550  \n",
       "4         48.4418           48.54276         1.601652  "
      ]
     },
     "execution_count": 419,
     "metadata": {},
     "output_type": "execute_result"
    }
   ],
   "source": [
    "BS_data.head()"
   ]
  },
  {
   "cell_type": "code",
   "execution_count": 420,
   "id": "e3049c10-5fa6-4078-a27e-400a1564d377",
   "metadata": {},
   "outputs": [
    {
     "data": {
      "text/html": [
       "<div>\n",
       "<style scoped>\n",
       "    .dataframe tbody tr th:only-of-type {\n",
       "        vertical-align: middle;\n",
       "    }\n",
       "\n",
       "    .dataframe tbody tr th {\n",
       "        vertical-align: top;\n",
       "    }\n",
       "\n",
       "    .dataframe thead th {\n",
       "        text-align: right;\n",
       "    }\n",
       "</style>\n",
       "<table border=\"1\" class=\"dataframe\">\n",
       "  <thead>\n",
       "    <tr style=\"text-align: right;\">\n",
       "      <th></th>\n",
       "      <th>step</th>\n",
       "      <th>target_value_1</th>\n",
       "      <th>target_value_2</th>\n",
       "      <th>target_value_3</th>\n",
       "      <th>target_value_4</th>\n",
       "      <th>target_value_5</th>\n",
       "      <th>target_value_mean</th>\n",
       "      <th>target_value_sd</th>\n",
       "    </tr>\n",
       "  </thead>\n",
       "  <tbody>\n",
       "    <tr>\n",
       "      <th>56</th>\n",
       "      <td>5600</td>\n",
       "      <td>57.0472</td>\n",
       "      <td>57.0104</td>\n",
       "      <td>57.0320</td>\n",
       "      <td>56.9826</td>\n",
       "      <td>57.0334</td>\n",
       "      <td>57.02112</td>\n",
       "      <td>0.022575</td>\n",
       "    </tr>\n",
       "    <tr>\n",
       "      <th>57</th>\n",
       "      <td>5700</td>\n",
       "      <td>57.0569</td>\n",
       "      <td>57.0319</td>\n",
       "      <td>57.0128</td>\n",
       "      <td>56.9839</td>\n",
       "      <td>57.0908</td>\n",
       "      <td>57.03526</td>\n",
       "      <td>0.036624</td>\n",
       "    </tr>\n",
       "    <tr>\n",
       "      <th>58</th>\n",
       "      <td>5800</td>\n",
       "      <td>57.0408</td>\n",
       "      <td>57.0521</td>\n",
       "      <td>56.9623</td>\n",
       "      <td>56.9521</td>\n",
       "      <td>57.0591</td>\n",
       "      <td>57.01328</td>\n",
       "      <td>0.046273</td>\n",
       "    </tr>\n",
       "    <tr>\n",
       "      <th>59</th>\n",
       "      <td>5900</td>\n",
       "      <td>57.0038</td>\n",
       "      <td>57.0217</td>\n",
       "      <td>56.9912</td>\n",
       "      <td>56.9694</td>\n",
       "      <td>57.0326</td>\n",
       "      <td>57.00374</td>\n",
       "      <td>0.022325</td>\n",
       "    </tr>\n",
       "    <tr>\n",
       "      <th>60</th>\n",
       "      <td>6000</td>\n",
       "      <td>57.0187</td>\n",
       "      <td>57.0498</td>\n",
       "      <td>57.0265</td>\n",
       "      <td>57.0349</td>\n",
       "      <td>57.0207</td>\n",
       "      <td>57.03012</td>\n",
       "      <td>0.011335</td>\n",
       "    </tr>\n",
       "  </tbody>\n",
       "</table>\n",
       "</div>"
      ],
      "text/plain": [
       "    step  target_value_1  target_value_2  target_value_3  target_value_4  \\\n",
       "56  5600         57.0472         57.0104         57.0320         56.9826   \n",
       "57  5700         57.0569         57.0319         57.0128         56.9839   \n",
       "58  5800         57.0408         57.0521         56.9623         56.9521   \n",
       "59  5900         57.0038         57.0217         56.9912         56.9694   \n",
       "60  6000         57.0187         57.0498         57.0265         57.0349   \n",
       "\n",
       "    target_value_5  target_value_mean  target_value_sd  \n",
       "56         57.0334           57.02112         0.022575  \n",
       "57         57.0908           57.03526         0.036624  \n",
       "58         57.0591           57.01328         0.046273  \n",
       "59         57.0326           57.00374         0.022325  \n",
       "60         57.0207           57.03012         0.011335  "
      ]
     },
     "execution_count": 420,
     "metadata": {},
     "output_type": "execute_result"
    }
   ],
   "source": [
    "BS_data.tail()"
   ]
  },
  {
   "cell_type": "code",
   "execution_count": 421,
   "id": "f1438f11-cf9a-430b-805e-0745146f4714",
   "metadata": {},
   "outputs": [],
   "source": [
    "# fonction to calculate the approximation of relative error\n",
    "def relative_error_estimate(data, size):\n",
    "    v_a = data[\"target_value_mean\"].iloc[size-1]\n",
    "    v_e = data[\"target_value_mean\"].mean()\n",
    "    return abs(v_a - v_e)/v_e"
   ]
  },
  {
   "cell_type": "code",
   "execution_count": 422,
   "id": "63e5e098-92bb-40f8-814f-f67e6a1b3045",
   "metadata": {},
   "outputs": [
    {
     "data": {
      "text/plain": [
       "0.03746831435830592"
      ]
     },
     "execution_count": 422,
     "metadata": {},
     "output_type": "execute_result"
    }
   ],
   "source": [
    "relative_error_estimate(BS_data, size = BS_data.shape[0])"
   ]
  },
  {
   "cell_type": "code",
   "execution_count": 423,
   "id": "80441f71-931d-48bf-9b96-7f8b03b44341",
   "metadata": {},
   "outputs": [],
   "source": [
    "# fonction to calculate the approximation of relative error in the article using means of the multilevel Picard method\n",
    "def relative_error_exact(data, size):\n",
    "    v_a = data[\"target_value_mean\"].iloc[size-1]\n",
    "    v_e = 57.300 # by using means of the multilevel Picard method, given in article\n",
    "    return abs(v_a - v_e)/v_e"
   ]
  },
  {
   "cell_type": "code",
   "execution_count": 424,
   "id": "afa9e1fe-15c0-4c6f-ba2f-151e86be0b10",
   "metadata": {},
   "outputs": [
    {
     "data": {
      "text/plain": [
       "0.004709947643979068"
      ]
     },
     "execution_count": 424,
     "metadata": {},
     "output_type": "execute_result"
    }
   ],
   "source": [
    "relative_error_exact(BS_data, size = BS_data.shape[0])"
   ]
  },
  {
   "cell_type": "code",
   "execution_count": 425,
   "id": "8e68f365-686a-4773-8742-f2b39ce5d149",
   "metadata": {},
   "outputs": [],
   "source": [
    "# Plot the mean and +- sd.\n",
    "def plot_mean_std(data, ylabel=\"$u(t=0, x=(100,...,100))$\", color1=\"r\", color2=\"lightsalmon\"):\n",
    "    plt.figure(figsize=(9,6))\n",
    "    xmin, xmax = plt.xlim()\n",
    "    x = data['step']\n",
    "    y = data['target_value_mean']\n",
    "    error = data['target_value_sd']\n",
    "    plt.plot(x, y, linewidth=2.5, color=color1)\n",
    "    plt.fill_between(x, y-error, y+error, color=color2)\n",
    "    plt.xlabel('Number of iteration steps')\n",
    "    plt.ylabel(ylabel)"
   ]
  },
  {
   "cell_type": "code",
   "execution_count": 426,
   "id": "5246ad1f-766a-46c2-8bbe-8d1dd0f2f457",
   "metadata": {},
   "outputs": [
    {
     "data": {
      "image/png": "[encoded data removed]",
      "text/plain": [
       "<Figure size 648x432 with 1 Axes>"
      ]
     },
     "metadata": {
      "needs_background": "light"
     },
     "output_type": "display_data"
    }
   ],
   "source": [
    "plot_mean_std(BS_data)"
   ]
  },
  {
   "cell_type": "code",
   "execution_count": 428,
   "id": "ea199eda-de8f-46f8-99bc-d1d8b942c752",
   "metadata": {},
   "outputs": [
    {
     "name": "stdout",
     "output_type": "stream",
     "text": [
      "Total execution time for 5 runs (last row) is : 2454s\n"
     ]
    }
   ],
   "source": [
    "# total execution time for 5 runs (in seconds)\n",
    "t = total_time_execution_last(filename=\"pricing_default_risk_d100_result*.csv\")\n",
    "print(\"Total execution time for 5 runs (last row) is : {}s\".format(t))"
   ]
  },
  {
   "cell_type": "markdown",
   "id": "35d9994e-3b6c-40c9-b2a1-c0f78d39c70f",
   "metadata": {},
   "source": [
    "### Study the relative error of 5 different runs of BS default risk"
   ]
  },
  {
   "cell_type": "code",
   "execution_count": 429,
   "id": "1f0a9c49-1823-424f-b087-009aacc17621",
   "metadata": {},
   "outputs": [],
   "source": [
    "v_exact = 57.300 # by using means of the multilevel Picard method, given in article\n",
    "\n",
    "def create_dataset_relative_error(filename, v_exact):\n",
    "    \n",
    "    def relative_error(v_a, v_e):\n",
    "        return abs(v_a - v_e)/v_e\n",
    "    \n",
    "    def relative_error_df(df):\n",
    "        res = []\n",
    "        for i in range(df.shape[0]):\n",
    "            res.append(relative_error(df[\"target_value\"].iloc[i], v_exact))\n",
    "            \n",
    "        return res\n",
    "\n",
    "    path = \"logs/\"\n",
    "    list_files = sorted(glob.glob(path + filename))\n",
    "\n",
    "    df = []\n",
    "    for file in list_files:\n",
    "        read_f = pd.read_csv(file)\n",
    "        read_f[\"relative_error\"] = relative_error_df(read_f)\n",
    "        read_f = read_f.drop(['target_value', 'loss_function', 'elapsed_time'], axis=1)\n",
    "        df.append(read_f)\n",
    "    \n",
    "    col = [\"step\"]\n",
    "    data = pd.DataFrame(columns = col)\n",
    "\n",
    "    for file in df:\n",
    "        data = data.merge(file, on=['step'], how='outer', suffixes=('_x', '_y'))\n",
    "\n",
    "    data.columns = ['step','relative_error_1', 'relative_error_2',\n",
    "              'relative_error_3', 'relative_error_4', 'relative_error_5']\n",
    "\n",
    "    data['relative_error_mean'] = data.loc[: , data.columns != 'step'].mean(axis=1)\n",
    "    data['relative_error_sd'] = data.loc[: , data.columns != 'step'].std(axis=1)\n",
    "\n",
    "    return data"
   ]
  },
  {
   "cell_type": "code",
   "execution_count": 431,
   "id": "c4671789-2cd4-4081-816c-2b53498e7bc2",
   "metadata": {},
   "outputs": [
    {
     "data": {
      "text/plain": [
       "(61, 8)"
      ]
     },
     "execution_count": 431,
     "metadata": {},
     "output_type": "execute_result"
    }
   ],
   "source": [
    "BS_relative_error_df = create_dataset_relative_error(filename=\"pricing_default_risk_d100_result*.csv\", v_exact=v_exact)\n",
    "BS_relative_error_df.shape"
   ]
  },
  {
   "cell_type": "code",
   "execution_count": 432,
   "id": "dbb94f65-ed3c-4e26-9805-10fe1572584a",
   "metadata": {},
   "outputs": [
    {
     "data": {
      "text/html": [
       "<div>\n",
       "<style scoped>\n",
       "    .dataframe tbody tr th:only-of-type {\n",
       "        vertical-align: middle;\n",
       "    }\n",
       "\n",
       "    .dataframe tbody tr th {\n",
       "        vertical-align: top;\n",
       "    }\n",
       "\n",
       "    .dataframe thead th {\n",
       "        text-align: right;\n",
       "    }\n",
       "</style>\n",
       "<table border=\"1\" class=\"dataframe\">\n",
       "  <thead>\n",
       "    <tr style=\"text-align: right;\">\n",
       "      <th></th>\n",
       "      <th>step</th>\n",
       "      <th>relative_error_1</th>\n",
       "      <th>relative_error_2</th>\n",
       "      <th>relative_error_3</th>\n",
       "      <th>relative_error_4</th>\n",
       "      <th>relative_error_5</th>\n",
       "      <th>relative_error_mean</th>\n",
       "      <th>relative_error_sd</th>\n",
       "    </tr>\n",
       "  </thead>\n",
       "  <tbody>\n",
       "    <tr>\n",
       "      <th>0</th>\n",
       "      <td>0</td>\n",
       "      <td>0.207019</td>\n",
       "      <td>0.184124</td>\n",
       "      <td>0.253798</td>\n",
       "      <td>0.167880</td>\n",
       "      <td>0.205169</td>\n",
       "      <td>0.203598</td>\n",
       "      <td>0.028946</td>\n",
       "    </tr>\n",
       "    <tr>\n",
       "      <th>1</th>\n",
       "      <td>100</td>\n",
       "      <td>0.193325</td>\n",
       "      <td>0.170459</td>\n",
       "      <td>0.239955</td>\n",
       "      <td>0.154255</td>\n",
       "      <td>0.191419</td>\n",
       "      <td>0.189882</td>\n",
       "      <td>0.028872</td>\n",
       "    </tr>\n",
       "    <tr>\n",
       "      <th>2</th>\n",
       "      <td>200</td>\n",
       "      <td>0.180389</td>\n",
       "      <td>0.157592</td>\n",
       "      <td>0.226517</td>\n",
       "      <td>0.141377</td>\n",
       "      <td>0.178482</td>\n",
       "      <td>0.176871</td>\n",
       "      <td>0.028675</td>\n",
       "    </tr>\n",
       "    <tr>\n",
       "      <th>3</th>\n",
       "      <td>300</td>\n",
       "      <td>0.168120</td>\n",
       "      <td>0.145316</td>\n",
       "      <td>0.213623</td>\n",
       "      <td>0.129403</td>\n",
       "      <td>0.166230</td>\n",
       "      <td>0.164539</td>\n",
       "      <td>0.028387</td>\n",
       "    </tr>\n",
       "    <tr>\n",
       "      <th>4</th>\n",
       "      <td>400</td>\n",
       "      <td>0.156347</td>\n",
       "      <td>0.133876</td>\n",
       "      <td>0.201133</td>\n",
       "      <td>0.118208</td>\n",
       "      <td>0.154593</td>\n",
       "      <td>0.152831</td>\n",
       "      <td>0.027952</td>\n",
       "    </tr>\n",
       "  </tbody>\n",
       "</table>\n",
       "</div>"
      ],
      "text/plain": [
       "   step  relative_error_1  relative_error_2  relative_error_3  \\\n",
       "0     0          0.207019          0.184124          0.253798   \n",
       "1   100          0.193325          0.170459          0.239955   \n",
       "2   200          0.180389          0.157592          0.226517   \n",
       "3   300          0.168120          0.145316          0.213623   \n",
       "4   400          0.156347          0.133876          0.201133   \n",
       "\n",
       "   relative_error_4  relative_error_5  relative_error_mean  relative_error_sd  \n",
       "0          0.167880          0.205169             0.203598           0.028946  \n",
       "1          0.154255          0.191419             0.189882           0.028872  \n",
       "2          0.141377          0.178482             0.176871           0.028675  \n",
       "3          0.129403          0.166230             0.164539           0.028387  \n",
       "4          0.118208          0.154593             0.152831           0.027952  "
      ]
     },
     "execution_count": 432,
     "metadata": {},
     "output_type": "execute_result"
    }
   ],
   "source": [
    "BS_relative_error_df.head()"
   ]
  },
  {
   "cell_type": "code",
   "execution_count": 433,
   "id": "28321733-38ee-471f-b802-1ad9cdcce3e3",
   "metadata": {},
   "outputs": [
    {
     "data": {
      "text/html": [
       "<div>\n",
       "<style scoped>\n",
       "    .dataframe tbody tr th:only-of-type {\n",
       "        vertical-align: middle;\n",
       "    }\n",
       "\n",
       "    .dataframe tbody tr th {\n",
       "        vertical-align: top;\n",
       "    }\n",
       "\n",
       "    .dataframe thead th {\n",
       "        text-align: right;\n",
       "    }\n",
       "</style>\n",
       "<table border=\"1\" class=\"dataframe\">\n",
       "  <thead>\n",
       "    <tr style=\"text-align: right;\">\n",
       "      <th></th>\n",
       "      <th>step</th>\n",
       "      <th>relative_error_1</th>\n",
       "      <th>relative_error_2</th>\n",
       "      <th>relative_error_3</th>\n",
       "      <th>relative_error_4</th>\n",
       "      <th>relative_error_5</th>\n",
       "      <th>relative_error_mean</th>\n",
       "      <th>relative_error_sd</th>\n",
       "    </tr>\n",
       "  </thead>\n",
       "  <tbody>\n",
       "    <tr>\n",
       "      <th>56</th>\n",
       "      <td>5600</td>\n",
       "      <td>0.004412</td>\n",
       "      <td>0.005054</td>\n",
       "      <td>0.004677</td>\n",
       "      <td>0.005539</td>\n",
       "      <td>0.004653</td>\n",
       "      <td>0.004867</td>\n",
       "      <td>0.000394</td>\n",
       "    </tr>\n",
       "    <tr>\n",
       "      <th>57</th>\n",
       "      <td>5700</td>\n",
       "      <td>0.004243</td>\n",
       "      <td>0.004679</td>\n",
       "      <td>0.005012</td>\n",
       "      <td>0.005517</td>\n",
       "      <td>0.003651</td>\n",
       "      <td>0.004620</td>\n",
       "      <td>0.000639</td>\n",
       "    </tr>\n",
       "    <tr>\n",
       "      <th>58</th>\n",
       "      <td>5800</td>\n",
       "      <td>0.004524</td>\n",
       "      <td>0.004326</td>\n",
       "      <td>0.005894</td>\n",
       "      <td>0.006072</td>\n",
       "      <td>0.004204</td>\n",
       "      <td>0.005004</td>\n",
       "      <td>0.000808</td>\n",
       "    </tr>\n",
       "    <tr>\n",
       "      <th>59</th>\n",
       "      <td>5900</td>\n",
       "      <td>0.005169</td>\n",
       "      <td>0.004857</td>\n",
       "      <td>0.005389</td>\n",
       "      <td>0.005770</td>\n",
       "      <td>0.004667</td>\n",
       "      <td>0.005170</td>\n",
       "      <td>0.000390</td>\n",
       "    </tr>\n",
       "    <tr>\n",
       "      <th>60</th>\n",
       "      <td>6000</td>\n",
       "      <td>0.004909</td>\n",
       "      <td>0.004366</td>\n",
       "      <td>0.004773</td>\n",
       "      <td>0.004627</td>\n",
       "      <td>0.004874</td>\n",
       "      <td>0.004710</td>\n",
       "      <td>0.000198</td>\n",
       "    </tr>\n",
       "  </tbody>\n",
       "</table>\n",
       "</div>"
      ],
      "text/plain": [
       "    step  relative_error_1  relative_error_2  relative_error_3  \\\n",
       "56  5600          0.004412          0.005054          0.004677   \n",
       "57  5700          0.004243          0.004679          0.005012   \n",
       "58  5800          0.004524          0.004326          0.005894   \n",
       "59  5900          0.005169          0.004857          0.005389   \n",
       "60  6000          0.004909          0.004366          0.004773   \n",
       "\n",
       "    relative_error_4  relative_error_5  relative_error_mean  relative_error_sd  \n",
       "56          0.005539          0.004653             0.004867           0.000394  \n",
       "57          0.005517          0.003651             0.004620           0.000639  \n",
       "58          0.006072          0.004204             0.005004           0.000808  \n",
       "59          0.005770          0.004667             0.005170           0.000390  \n",
       "60          0.004627          0.004874             0.004710           0.000198  "
      ]
     },
     "execution_count": 433,
     "metadata": {},
     "output_type": "execute_result"
    }
   ],
   "source": [
    "BS_relative_error_df.tail()"
   ]
  },
  {
   "cell_type": "code",
   "execution_count": 434,
   "id": "186ea2b1-6395-4a05-87f1-0abb7e5a6202",
   "metadata": {},
   "outputs": [],
   "source": [
    "# Plot the mean and +- sd of relative error\n",
    "def plot_RE_mean_std(data, ylabel=\"$u(t=0, x=(100,...,100))$\", color1=\"r\", color2=\"lightsalmon\"):\n",
    "    plt.figure(figsize=(9,6))\n",
    "    xmin, xmax = plt.xlim()\n",
    "    x = data['step']\n",
    "    y = data['relative_error_mean']\n",
    "    error = data['relative_error_sd']\n",
    "    plt.plot(x, y, linewidth=2.5, color=color1)\n",
    "    plt.fill_between(x, y-error, y+error, color=color2)\n",
    "    plt.xlabel('Number of iteration steps')\n",
    "    plt.ylabel(ylabel)"
   ]
  },
  {
   "cell_type": "code",
   "execution_count": 435,
   "id": "d92bfb49-40c1-4983-ba9d-e3c5509a24f7",
   "metadata": {},
   "outputs": [
    {
     "data": {
      "image/png": "[encoded data removed]",
      "text/plain": [
       "<Figure size 648x432 with 1 Axes>"
      ]
     },
     "metadata": {
      "needs_background": "light"
     },
     "output_type": "display_data"
    }
   ],
   "source": [
    "plot_RE_mean_std(BS_relative_error_df, ylabel=\"Relative approximation error\", color1=\"deeppink\", color2=\"plum\")"
   ]
  },
  {
   "cell_type": "markdown",
   "id": "7baa96e0-83c1-43e8-98d8-669ebe69909b",
   "metadata": {},
   "source": [
    "# Example 2 :"
   ]
  },
  {
   "cell_type": "markdown",
   "id": "32062724-8e76-4984-bda1-e9b8caa66725",
   "metadata": {},
   "source": [
    "### Results of Hamilton-Jacobi-Bellman (HJB) Equation with 5 tests independent"
   ]
  },
  {
   "cell_type": "code",
   "execution_count": 437,
   "id": "ed83d40b-9b80-43e8-b3d6-54902d4c3445",
   "metadata": {},
   "outputs": [
    {
     "data": {
      "text/plain": [
       "(21, 8)"
      ]
     },
     "execution_count": 437,
     "metadata": {},
     "output_type": "execute_result"
    }
   ],
   "source": [
    "HJB_data = create_dataset(filename=\"hjb_lq_d100_result*.csv\")\n",
    "HJB_data.shape"
   ]
  },
  {
   "cell_type": "code",
   "execution_count": 438,
   "id": "26f845b8-0272-424a-a85f-6d087e150fbd",
   "metadata": {},
   "outputs": [
    {
     "data": {
      "text/html": [
       "<div>\n",
       "<style scoped>\n",
       "    .dataframe tbody tr th:only-of-type {\n",
       "        vertical-align: middle;\n",
       "    }\n",
       "\n",
       "    .dataframe tbody tr th {\n",
       "        vertical-align: top;\n",
       "    }\n",
       "\n",
       "    .dataframe thead th {\n",
       "        text-align: right;\n",
       "    }\n",
       "</style>\n",
       "<table border=\"1\" class=\"dataframe\">\n",
       "  <thead>\n",
       "    <tr style=\"text-align: right;\">\n",
       "      <th></th>\n",
       "      <th>step</th>\n",
       "      <th>target_value_1</th>\n",
       "      <th>target_value_2</th>\n",
       "      <th>target_value_3</th>\n",
       "      <th>target_value_4</th>\n",
       "      <th>target_value_5</th>\n",
       "      <th>target_value_mean</th>\n",
       "      <th>target_value_sd</th>\n",
       "    </tr>\n",
       "  </thead>\n",
       "  <tbody>\n",
       "    <tr>\n",
       "      <th>0</th>\n",
       "      <td>0</td>\n",
       "      <td>0.04498</td>\n",
       "      <td>0.097884</td>\n",
       "      <td>0.707535</td>\n",
       "      <td>0.993852</td>\n",
       "      <td>0.808437</td>\n",
       "      <td>0.530538</td>\n",
       "      <td>0.386309</td>\n",
       "    </tr>\n",
       "    <tr>\n",
       "      <th>1</th>\n",
       "      <td>100</td>\n",
       "      <td>0.99706</td>\n",
       "      <td>1.050820</td>\n",
       "      <td>1.653650</td>\n",
       "      <td>1.936140</td>\n",
       "      <td>1.755630</td>\n",
       "      <td>1.478660</td>\n",
       "      <td>0.382520</td>\n",
       "    </tr>\n",
       "    <tr>\n",
       "      <th>2</th>\n",
       "      <td>200</td>\n",
       "      <td>1.75448</td>\n",
       "      <td>1.802980</td>\n",
       "      <td>2.399660</td>\n",
       "      <td>2.669020</td>\n",
       "      <td>2.504370</td>\n",
       "      <td>2.226102</td>\n",
       "      <td>0.375551</td>\n",
       "    </tr>\n",
       "    <tr>\n",
       "      <th>3</th>\n",
       "      <td>300</td>\n",
       "      <td>2.21585</td>\n",
       "      <td>2.261640</td>\n",
       "      <td>2.879600</td>\n",
       "      <td>3.154740</td>\n",
       "      <td>3.008210</td>\n",
       "      <td>2.704008</td>\n",
       "      <td>0.390005</td>\n",
       "    </tr>\n",
       "    <tr>\n",
       "      <th>4</th>\n",
       "      <td>400</td>\n",
       "      <td>2.55972</td>\n",
       "      <td>2.602840</td>\n",
       "      <td>3.241740</td>\n",
       "      <td>3.539380</td>\n",
       "      <td>3.387090</td>\n",
       "      <td>3.066154</td>\n",
       "      <td>0.407163</td>\n",
       "    </tr>\n",
       "  </tbody>\n",
       "</table>\n",
       "</div>"
      ],
      "text/plain": [
       "   step  target_value_1  target_value_2  target_value_3  target_value_4  \\\n",
       "0     0         0.04498        0.097884        0.707535        0.993852   \n",
       "1   100         0.99706        1.050820        1.653650        1.936140   \n",
       "2   200         1.75448        1.802980        2.399660        2.669020   \n",
       "3   300         2.21585        2.261640        2.879600        3.154740   \n",
       "4   400         2.55972        2.602840        3.241740        3.539380   \n",
       "\n",
       "   target_value_5  target_value_mean  target_value_sd  \n",
       "0        0.808437           0.530538         0.386309  \n",
       "1        1.755630           1.478660         0.382520  \n",
       "2        2.504370           2.226102         0.375551  \n",
       "3        3.008210           2.704008         0.390005  \n",
       "4        3.387090           3.066154         0.407163  "
      ]
     },
     "execution_count": 438,
     "metadata": {},
     "output_type": "execute_result"
    }
   ],
   "source": [
    "HJB_data.head()"
   ]
  },
  {
   "cell_type": "code",
   "execution_count": 439,
   "id": "5dcab41f-991e-425f-9c04-79912326ce31",
   "metadata": {},
   "outputs": [
    {
     "data": {
      "text/html": [
       "<div>\n",
       "<style scoped>\n",
       "    .dataframe tbody tr th:only-of-type {\n",
       "        vertical-align: middle;\n",
       "    }\n",
       "\n",
       "    .dataframe tbody tr th {\n",
       "        vertical-align: top;\n",
       "    }\n",
       "\n",
       "    .dataframe thead th {\n",
       "        text-align: right;\n",
       "    }\n",
       "</style>\n",
       "<table border=\"1\" class=\"dataframe\">\n",
       "  <thead>\n",
       "    <tr style=\"text-align: right;\">\n",
       "      <th></th>\n",
       "      <th>step</th>\n",
       "      <th>target_value_1</th>\n",
       "      <th>target_value_2</th>\n",
       "      <th>target_value_3</th>\n",
       "      <th>target_value_4</th>\n",
       "      <th>target_value_5</th>\n",
       "      <th>target_value_mean</th>\n",
       "      <th>target_value_sd</th>\n",
       "    </tr>\n",
       "  </thead>\n",
       "  <tbody>\n",
       "    <tr>\n",
       "      <th>16</th>\n",
       "      <td>1600</td>\n",
       "      <td>4.59877</td>\n",
       "      <td>4.59954</td>\n",
       "      <td>4.59929</td>\n",
       "      <td>4.59970</td>\n",
       "      <td>4.59816</td>\n",
       "      <td>4.599092</td>\n",
       "      <td>0.000562</td>\n",
       "    </tr>\n",
       "    <tr>\n",
       "      <th>17</th>\n",
       "      <td>1700</td>\n",
       "      <td>4.60014</td>\n",
       "      <td>4.60189</td>\n",
       "      <td>4.59842</td>\n",
       "      <td>4.60222</td>\n",
       "      <td>4.59901</td>\n",
       "      <td>4.600336</td>\n",
       "      <td>0.001512</td>\n",
       "    </tr>\n",
       "    <tr>\n",
       "      <th>18</th>\n",
       "      <td>1800</td>\n",
       "      <td>4.60077</td>\n",
       "      <td>4.60078</td>\n",
       "      <td>4.60132</td>\n",
       "      <td>4.59919</td>\n",
       "      <td>4.59862</td>\n",
       "      <td>4.600136</td>\n",
       "      <td>0.001040</td>\n",
       "    </tr>\n",
       "    <tr>\n",
       "      <th>19</th>\n",
       "      <td>1900</td>\n",
       "      <td>4.59952</td>\n",
       "      <td>4.59888</td>\n",
       "      <td>4.60020</td>\n",
       "      <td>4.60032</td>\n",
       "      <td>4.59936</td>\n",
       "      <td>4.599656</td>\n",
       "      <td>0.000538</td>\n",
       "    </tr>\n",
       "    <tr>\n",
       "      <th>20</th>\n",
       "      <td>2000</td>\n",
       "      <td>4.60047</td>\n",
       "      <td>4.59997</td>\n",
       "      <td>4.60051</td>\n",
       "      <td>4.60225</td>\n",
       "      <td>4.59599</td>\n",
       "      <td>4.599838</td>\n",
       "      <td>0.002073</td>\n",
       "    </tr>\n",
       "  </tbody>\n",
       "</table>\n",
       "</div>"
      ],
      "text/plain": [
       "    step  target_value_1  target_value_2  target_value_3  target_value_4  \\\n",
       "16  1600         4.59877         4.59954         4.59929         4.59970   \n",
       "17  1700         4.60014         4.60189         4.59842         4.60222   \n",
       "18  1800         4.60077         4.60078         4.60132         4.59919   \n",
       "19  1900         4.59952         4.59888         4.60020         4.60032   \n",
       "20  2000         4.60047         4.59997         4.60051         4.60225   \n",
       "\n",
       "    target_value_5  target_value_mean  target_value_sd  \n",
       "16         4.59816           4.599092         0.000562  \n",
       "17         4.59901           4.600336         0.001512  \n",
       "18         4.59862           4.600136         0.001040  \n",
       "19         4.59936           4.599656         0.000538  \n",
       "20         4.59599           4.599838         0.002073  "
      ]
     },
     "execution_count": 439,
     "metadata": {},
     "output_type": "execute_result"
    }
   ],
   "source": [
    "HJB_data.tail()"
   ]
  },
  {
   "cell_type": "code",
   "execution_count": 440,
   "id": "36b57ebb-714f-425a-b938-0efa5b6cdc08",
   "metadata": {},
   "outputs": [],
   "source": [
    "# Compute HJB by Monte-Carlo method\n",
    "\n",
    "def g(x):\n",
    "    return np.log((1 + np.linalg.norm(x)**2)/2)\n",
    "\n",
    "def MC_HJB(lamb, size=10000):\n",
    "    res = []\n",
    "    for i in range(size):\n",
    "        W = np.random.normal(0,1,100)\n",
    "        res.append(np.exp(-lamb*g(np.sqrt(2)*(W))))\n",
    "    return (-1/lamb) * np.log(np.mean(res))\n",
    "\n",
    "def exact_sol_HJB(lamb, size=10000):\n",
    "    res = []\n",
    "    for i in range(100):\n",
    "        res.append(MC_HJB(lamb, size))\n",
    "        \n",
    "    return sum(res)/len(res)"
   ]
  },
  {
   "cell_type": "code",
   "execution_count": 441,
   "id": "c65b8de0-299e-4bc0-a4c1-60810d5ff8ef",
   "metadata": {},
   "outputs": [
    {
     "data": {
      "text/plain": [
       "4.589810245657772"
      ]
     },
     "execution_count": 441,
     "metadata": {},
     "output_type": "execute_result"
    }
   ],
   "source": [
    "exact_sol_HJB(lamb=1, size=10000)"
   ]
  },
  {
   "cell_type": "code",
   "execution_count": 442,
   "id": "ca2b25c1-f52b-402a-818f-f439405a0e66",
   "metadata": {},
   "outputs": [],
   "source": [
    "# fonction to calculate the approximation of relative error in the article using Monte-Carlo method\n",
    "def relative_error_exact_HJB(data, size):\n",
    "    v_a = data[\"target_value_mean\"].iloc[size-1]\n",
    "    v_e = exact_sol_HJB(lamb=1, size=10000) # by using Monte-Carlo method \n",
    "    return abs(v_a - v_e)/v_e"
   ]
  },
  {
   "cell_type": "code",
   "execution_count": 443,
   "id": "bd37f558-0ed8-40e2-b18c-45c1a81c9e14",
   "metadata": {},
   "outputs": [
    {
     "data": {
      "text/plain": [
       "0.002107885832006639"
      ]
     },
     "execution_count": 443,
     "metadata": {},
     "output_type": "execute_result"
    }
   ],
   "source": [
    "relative_error_exact_HJB(HJB_data, size = HJB_data.shape[0])"
   ]
  },
  {
   "cell_type": "code",
   "execution_count": 444,
   "id": "e7519446-4636-4909-b413-0d8c633ca871",
   "metadata": {},
   "outputs": [
    {
     "data": {
      "image/png": "[encoded data removed]",
      "text/plain": [
       "<Figure size 648x432 with 1 Axes>"
      ]
     },
     "metadata": {
      "needs_background": "light"
     },
     "output_type": "display_data"
    }
   ],
   "source": [
    "plot_mean_std(HJB_data, ylabel=\"$u(t=0, x=(0,...,0))$\", color1=\"darkblue\", color2=\"lightblue\")"
   ]
  },
  {
   "cell_type": "code",
   "execution_count": 445,
   "id": "bd7cfd7f-09f1-4edf-a0bd-63cb78431722",
   "metadata": {},
   "outputs": [
    {
     "name": "stdout",
     "output_type": "stream",
     "text": [
      "Total execution time for 5 runs (the last one) is : 407s\n"
     ]
    }
   ],
   "source": [
    "# total execution time for 5 runs (in seconds)\n",
    "t = total_time_execution_last(filename=\"hjb_lq_d100_result*.csv\")\n",
    "print(\"Total execution time for 5 runs (the last one) is : {}s\".format(t))"
   ]
  },
  {
   "cell_type": "markdown",
   "id": "087713b9-bb2b-4e96-bad4-d0b0ee5386c8",
   "metadata": {},
   "source": [
    "### Test with different values of lambda for HJB Equation"
   ]
  },
  {
   "cell_type": "code",
   "execution_count": 447,
   "id": "146a628a-b4dc-48c2-9366-52fdc10c933d",
   "metadata": {},
   "outputs": [
    {
     "data": {
      "text/plain": [
       "(21, 7)"
      ]
     },
     "execution_count": 447,
     "metadata": {},
     "output_type": "execute_result"
    }
   ],
   "source": [
    "path = \"logs/\"\n",
    "list_HJB_lamb = sorted(glob.glob(path + \"hjb_lq_d100_lambda*.csv\"))\n",
    "\n",
    "df = []\n",
    "for file in list_HJB_lamb:\n",
    "    read_f = pd.read_csv(file)\n",
    "    read_f = read_f.drop(['loss_function', 'elapsed_time'], axis=1)\n",
    "    df.append(read_f)\n",
    "    \n",
    "col = [\"step\"]\n",
    "HJB_lamb = pd.DataFrame(columns = col)\n",
    "\n",
    "for file in df:\n",
    "    HJB_lamb = HJB_lamb.merge(file, on='step', how='outer')\n",
    "\n",
    "HJB_lamb.columns = ['step','target_value_1', 'target_value_2',\n",
    "                    'target_value_3', 'target_value_4', 'target_value_5', 'target_value_6']\n",
    "HJB_lamb.shape"
   ]
  },
  {
   "cell_type": "code",
   "execution_count": 448,
   "id": "b18ad0c5-a3e4-4285-a7b0-482348dae8fe",
   "metadata": {},
   "outputs": [
    {
     "data": {
      "text/html": [
       "<div>\n",
       "<style scoped>\n",
       "    .dataframe tbody tr th:only-of-type {\n",
       "        vertical-align: middle;\n",
       "    }\n",
       "\n",
       "    .dataframe tbody tr th {\n",
       "        vertical-align: top;\n",
       "    }\n",
       "\n",
       "    .dataframe thead th {\n",
       "        text-align: right;\n",
       "    }\n",
       "</style>\n",
       "<table border=\"1\" class=\"dataframe\">\n",
       "  <thead>\n",
       "    <tr style=\"text-align: right;\">\n",
       "      <th></th>\n",
       "      <th>step</th>\n",
       "      <th>target_value_1</th>\n",
       "      <th>target_value_2</th>\n",
       "      <th>target_value_3</th>\n",
       "      <th>target_value_4</th>\n",
       "      <th>target_value_5</th>\n",
       "      <th>target_value_6</th>\n",
       "    </tr>\n",
       "  </thead>\n",
       "  <tbody>\n",
       "    <tr>\n",
       "      <th>0</th>\n",
       "      <td>0</td>\n",
       "      <td>0.415719</td>\n",
       "      <td>0.139159</td>\n",
       "      <td>0.484225</td>\n",
       "      <td>0.521955</td>\n",
       "      <td>0.626136</td>\n",
       "      <td>0.740045</td>\n",
       "    </tr>\n",
       "    <tr>\n",
       "      <th>1</th>\n",
       "      <td>100</td>\n",
       "      <td>1.366440</td>\n",
       "      <td>0.520227</td>\n",
       "      <td>0.749145</td>\n",
       "      <td>0.745451</td>\n",
       "      <td>0.814390</td>\n",
       "      <td>0.911470</td>\n",
       "    </tr>\n",
       "    <tr>\n",
       "      <th>2</th>\n",
       "      <td>200</td>\n",
       "      <td>2.125020</td>\n",
       "      <td>0.584797</td>\n",
       "      <td>0.791510</td>\n",
       "      <td>0.779623</td>\n",
       "      <td>0.846459</td>\n",
       "      <td>0.937644</td>\n",
       "    </tr>\n",
       "    <tr>\n",
       "      <th>3</th>\n",
       "      <td>300</td>\n",
       "      <td>2.608460</td>\n",
       "      <td>0.672125</td>\n",
       "      <td>0.851840</td>\n",
       "      <td>0.824300</td>\n",
       "      <td>0.885853</td>\n",
       "      <td>0.972302</td>\n",
       "    </tr>\n",
       "    <tr>\n",
       "      <th>4</th>\n",
       "      <td>400</td>\n",
       "      <td>2.966760</td>\n",
       "      <td>0.774826</td>\n",
       "      <td>0.926712</td>\n",
       "      <td>0.879223</td>\n",
       "      <td>0.934654</td>\n",
       "      <td>1.014150</td>\n",
       "    </tr>\n",
       "  </tbody>\n",
       "</table>\n",
       "</div>"
      ],
      "text/plain": [
       "   step  target_value_1  target_value_2  target_value_3  target_value_4  \\\n",
       "0     0        0.415719        0.139159        0.484225        0.521955   \n",
       "1   100        1.366440        0.520227        0.749145        0.745451   \n",
       "2   200        2.125020        0.584797        0.791510        0.779623   \n",
       "3   300        2.608460        0.672125        0.851840        0.824300   \n",
       "4   400        2.966760        0.774826        0.926712        0.879223   \n",
       "\n",
       "   target_value_5  target_value_6  \n",
       "0        0.626136        0.740045  \n",
       "1        0.814390        0.911470  \n",
       "2        0.846459        0.937644  \n",
       "3        0.885853        0.972302  \n",
       "4        0.934654        1.014150  "
      ]
     },
     "execution_count": 448,
     "metadata": {},
     "output_type": "execute_result"
    }
   ],
   "source": [
    "HJB_lamb.head()"
   ]
  },
  {
   "cell_type": "code",
   "execution_count": 449,
   "id": "12a4e5bd-6b15-403b-838c-1bb00b331245",
   "metadata": {},
   "outputs": [
    {
     "data": {
      "text/html": [
       "<div>\n",
       "<style scoped>\n",
       "    .dataframe tbody tr th:only-of-type {\n",
       "        vertical-align: middle;\n",
       "    }\n",
       "\n",
       "    .dataframe tbody tr th {\n",
       "        vertical-align: top;\n",
       "    }\n",
       "\n",
       "    .dataframe thead th {\n",
       "        text-align: right;\n",
       "    }\n",
       "</style>\n",
       "<table border=\"1\" class=\"dataframe\">\n",
       "  <thead>\n",
       "    <tr style=\"text-align: right;\">\n",
       "      <th></th>\n",
       "      <th>step</th>\n",
       "      <th>target_value_1</th>\n",
       "      <th>target_value_2</th>\n",
       "      <th>target_value_3</th>\n",
       "      <th>target_value_4</th>\n",
       "      <th>target_value_5</th>\n",
       "      <th>target_value_6</th>\n",
       "    </tr>\n",
       "  </thead>\n",
       "  <tbody>\n",
       "    <tr>\n",
       "      <th>16</th>\n",
       "      <td>1600</td>\n",
       "      <td>4.59913</td>\n",
       "      <td>3.12176</td>\n",
       "      <td>2.30420</td>\n",
       "      <td>1.61580</td>\n",
       "      <td>1.44237</td>\n",
       "      <td>1.37007</td>\n",
       "    </tr>\n",
       "    <tr>\n",
       "      <th>17</th>\n",
       "      <td>1700</td>\n",
       "      <td>4.60216</td>\n",
       "      <td>3.37690</td>\n",
       "      <td>2.40459</td>\n",
       "      <td>1.65993</td>\n",
       "      <td>1.47179</td>\n",
       "      <td>1.39303</td>\n",
       "    </tr>\n",
       "    <tr>\n",
       "      <th>18</th>\n",
       "      <td>1800</td>\n",
       "      <td>4.59987</td>\n",
       "      <td>3.65444</td>\n",
       "      <td>2.51094</td>\n",
       "      <td>1.71177</td>\n",
       "      <td>1.50309</td>\n",
       "      <td>1.41368</td>\n",
       "    </tr>\n",
       "    <tr>\n",
       "      <th>19</th>\n",
       "      <td>1900</td>\n",
       "      <td>4.59873</td>\n",
       "      <td>3.91441</td>\n",
       "      <td>2.60139</td>\n",
       "      <td>1.75729</td>\n",
       "      <td>1.52902</td>\n",
       "      <td>1.43942</td>\n",
       "    </tr>\n",
       "    <tr>\n",
       "      <th>20</th>\n",
       "      <td>2000</td>\n",
       "      <td>4.60027</td>\n",
       "      <td>4.17131</td>\n",
       "      <td>2.69367</td>\n",
       "      <td>1.79957</td>\n",
       "      <td>1.55470</td>\n",
       "      <td>1.46082</td>\n",
       "    </tr>\n",
       "  </tbody>\n",
       "</table>\n",
       "</div>"
      ],
      "text/plain": [
       "    step  target_value_1  target_value_2  target_value_3  target_value_4  \\\n",
       "16  1600         4.59913         3.12176         2.30420         1.61580   \n",
       "17  1700         4.60216         3.37690         2.40459         1.65993   \n",
       "18  1800         4.59987         3.65444         2.51094         1.71177   \n",
       "19  1900         4.59873         3.91441         2.60139         1.75729   \n",
       "20  2000         4.60027         4.17131         2.69367         1.79957   \n",
       "\n",
       "    target_value_5  target_value_6  \n",
       "16         1.44237         1.37007  \n",
       "17         1.47179         1.39303  \n",
       "18         1.50309         1.41368  \n",
       "19         1.52902         1.43942  \n",
       "20         1.55470         1.46082  "
      ]
     },
     "execution_count": 449,
     "metadata": {},
     "output_type": "execute_result"
    }
   ],
   "source": [
    "HJB_lamb.tail()"
   ]
  },
  {
   "cell_type": "code",
   "execution_count": 450,
   "id": "394bfcaf-e901-4494-a5ee-c20b78dd28fb",
   "metadata": {},
   "outputs": [
    {
     "name": "stdout",
     "output_type": "stream",
     "text": [
      "[4.588862439478816, 4.494470181125807, 4.363828390669859, 4.280516504436659, 4.25730506024255, 4.193569628867068]\n"
     ]
    },
    {
     "data": {
      "text/html": [
       "<div>\n",
       "<style scoped>\n",
       "    .dataframe tbody tr th:only-of-type {\n",
       "        vertical-align: middle;\n",
       "    }\n",
       "\n",
       "    .dataframe tbody tr th {\n",
       "        vertical-align: top;\n",
       "    }\n",
       "\n",
       "    .dataframe thead th {\n",
       "        text-align: right;\n",
       "    }\n",
       "</style>\n",
       "<table border=\"1\" class=\"dataframe\">\n",
       "  <thead>\n",
       "    <tr style=\"text-align: right;\">\n",
       "      <th></th>\n",
       "      <th>step</th>\n",
       "      <th>target_value_1</th>\n",
       "      <th>target_value_2</th>\n",
       "      <th>target_value_3</th>\n",
       "      <th>target_value_4</th>\n",
       "      <th>target_value_5</th>\n",
       "      <th>target_value_6</th>\n",
       "    </tr>\n",
       "  </thead>\n",
       "  <tbody>\n",
       "    <tr>\n",
       "      <th>0</th>\n",
       "      <td>2000.0</td>\n",
       "      <td>4.588862</td>\n",
       "      <td>4.49447</td>\n",
       "      <td>4.363828</td>\n",
       "      <td>4.280517</td>\n",
       "      <td>4.257305</td>\n",
       "      <td>4.19357</td>\n",
       "    </tr>\n",
       "  </tbody>\n",
       "</table>\n",
       "</div>"
      ],
      "text/plain": [
       "     step  target_value_1  target_value_2  target_value_3  target_value_4  \\\n",
       "0  2000.0        4.588862         4.49447        4.363828        4.280517   \n",
       "\n",
       "   target_value_5  target_value_6  \n",
       "0        4.257305         4.19357  "
      ]
     },
     "execution_count": 450,
     "metadata": {},
     "output_type": "execute_result"
    }
   ],
   "source": [
    "price_MC_hjb = []\n",
    "for i in np.linspace(0,50,6):\n",
    "    if i == 0:\n",
    "        price_MC_hjb.append(MC_HJB(1))\n",
    "    else:\n",
    "        price_MC_hjb.append(MC_HJB(i))\n",
    "\n",
    "print(price_MC_hjb)\n",
    "\n",
    "col = ['step', 'target_value_1', 'target_value_2',\n",
    "       'target_value_3', 'target_value_4', 'target_value_5' , 'target_value_6']\n",
    "\n",
    "price_MC_hjb = [2000] + price_MC_hjb\n",
    " \n",
    "HJB_MC = pd.DataFrame(data=np.array(price_MC_hjb).reshape(-1,len(price_MC_hjb)), columns=col)\n",
    "HJB_MC"
   ]
  },
  {
   "cell_type": "code",
   "execution_count": 451,
   "id": "a2565125-f895-46f6-9177-55d6a6ee6dd7",
   "metadata": {},
   "outputs": [],
   "source": [
    "def plot_HJB_MC(data1, data2):\n",
    "    plt.figure(figsize=(9,6))\n",
    "    xmin, xmax = plt.xlim()\n",
    "    x = np.linspace(0,50,6)\n",
    "    \n",
    "    # Plot the data\n",
    "    plt.plot(x, data1, \"r\", marker='o', label=\"Deep BSDE Solver\")\n",
    "    plt.plot(x, data2, \"b\", marker='o', label=\"Monte Carlo Method\")\n",
    "    \n",
    "    #plt.title(titles)\n",
    "    plt.xlabel(r'$\\lambda$' + ' value', fontsize=14)\n",
    "    plt.ylabel(r'$u(t=0,x=(0,...,0))$', fontsize=14)\n",
    "    plt.legend(fontsize=13)"
   ]
  },
  {
   "cell_type": "code",
   "execution_count": 452,
   "id": "9a18e514-150f-49f7-9787-8cc33e8293d7",
   "metadata": {},
   "outputs": [
    {
     "data": {
      "image/png": "[encoded data removed]",
      "text/plain": [
       "<Figure size 648x432 with 1 Axes>"
      ]
     },
     "metadata": {
      "needs_background": "light"
     },
     "output_type": "display_data"
    }
   ],
   "source": [
    "col = ['step', 'target_value_mean', 'target_value_sd']\n",
    "y = HJB_lamb.iloc[-1, ~HJB_lamb.columns.isin(col)]\n",
    "mc = HJB_MC.iloc[-1, ~HJB_MC.columns.isin(col)]\n",
    "plot_HJB_MC(y, mc)"
   ]
  },
  {
   "cell_type": "markdown",
   "id": "d4179fc8-9564-4001-ab0f-c0b1dfae7cc5",
   "metadata": {},
   "source": [
    "## Study the relative error of HJB Equation with 5 different runs"
   ]
  },
  {
   "cell_type": "code",
   "execution_count": 454,
   "id": "8083ca10-b053-410b-bedf-e6d64bbf3f3f",
   "metadata": {},
   "outputs": [
    {
     "data": {
      "text/plain": [
       "(21, 8)"
      ]
     },
     "execution_count": 454,
     "metadata": {},
     "output_type": "execute_result"
    }
   ],
   "source": [
    "v_exact = exact_sol_HJB(lamb=1, size=10000)\n",
    "HJB_relative_error_df = create_dataset_relative_error(filename=\"hjb_lq_d100_result*.csv\", v_exact=v_exact)\n",
    "HJB_relative_error_df.shape"
   ]
  },
  {
   "cell_type": "code",
   "execution_count": 455,
   "id": "f526b0b3-9a1b-416d-9069-2339c743061e",
   "metadata": {},
   "outputs": [
    {
     "data": {
      "text/html": [
       "<div>\n",
       "<style scoped>\n",
       "    .dataframe tbody tr th:only-of-type {\n",
       "        vertical-align: middle;\n",
       "    }\n",
       "\n",
       "    .dataframe tbody tr th {\n",
       "        vertical-align: top;\n",
       "    }\n",
       "\n",
       "    .dataframe thead th {\n",
       "        text-align: right;\n",
       "    }\n",
       "</style>\n",
       "<table border=\"1\" class=\"dataframe\">\n",
       "  <thead>\n",
       "    <tr style=\"text-align: right;\">\n",
       "      <th></th>\n",
       "      <th>step</th>\n",
       "      <th>relative_error_1</th>\n",
       "      <th>relative_error_2</th>\n",
       "      <th>relative_error_3</th>\n",
       "      <th>relative_error_4</th>\n",
       "      <th>relative_error_5</th>\n",
       "      <th>relative_error_mean</th>\n",
       "      <th>relative_error_sd</th>\n",
       "    </tr>\n",
       "  </thead>\n",
       "  <tbody>\n",
       "    <tr>\n",
       "      <th>0</th>\n",
       "      <td>0</td>\n",
       "      <td>0.990201</td>\n",
       "      <td>0.978676</td>\n",
       "      <td>0.845866</td>\n",
       "      <td>0.783493</td>\n",
       "      <td>0.823885</td>\n",
       "      <td>0.884424</td>\n",
       "      <td>0.084156</td>\n",
       "    </tr>\n",
       "    <tr>\n",
       "      <th>1</th>\n",
       "      <td>100</td>\n",
       "      <td>0.782794</td>\n",
       "      <td>0.771082</td>\n",
       "      <td>0.639758</td>\n",
       "      <td>0.578218</td>\n",
       "      <td>0.617542</td>\n",
       "      <td>0.677879</td>\n",
       "      <td>0.083331</td>\n",
       "    </tr>\n",
       "    <tr>\n",
       "      <th>2</th>\n",
       "      <td>200</td>\n",
       "      <td>0.617792</td>\n",
       "      <td>0.607227</td>\n",
       "      <td>0.477242</td>\n",
       "      <td>0.418563</td>\n",
       "      <td>0.454431</td>\n",
       "      <td>0.515051</td>\n",
       "      <td>0.081812</td>\n",
       "    </tr>\n",
       "    <tr>\n",
       "      <th>3</th>\n",
       "      <td>300</td>\n",
       "      <td>0.517285</td>\n",
       "      <td>0.507309</td>\n",
       "      <td>0.372689</td>\n",
       "      <td>0.312751</td>\n",
       "      <td>0.344672</td>\n",
       "      <td>0.410941</td>\n",
       "      <td>0.084961</td>\n",
       "    </tr>\n",
       "    <tr>\n",
       "      <th>4</th>\n",
       "      <td>400</td>\n",
       "      <td>0.442374</td>\n",
       "      <td>0.432980</td>\n",
       "      <td>0.293798</td>\n",
       "      <td>0.228958</td>\n",
       "      <td>0.262134</td>\n",
       "      <td>0.332049</td>\n",
       "      <td>0.088699</td>\n",
       "    </tr>\n",
       "  </tbody>\n",
       "</table>\n",
       "</div>"
      ],
      "text/plain": [
       "   step  relative_error_1  relative_error_2  relative_error_3  \\\n",
       "0     0          0.990201          0.978676          0.845866   \n",
       "1   100          0.782794          0.771082          0.639758   \n",
       "2   200          0.617792          0.607227          0.477242   \n",
       "3   300          0.517285          0.507309          0.372689   \n",
       "4   400          0.442374          0.432980          0.293798   \n",
       "\n",
       "   relative_error_4  relative_error_5  relative_error_mean  relative_error_sd  \n",
       "0          0.783493          0.823885             0.884424           0.084156  \n",
       "1          0.578218          0.617542             0.677879           0.083331  \n",
       "2          0.418563          0.454431             0.515051           0.081812  \n",
       "3          0.312751          0.344672             0.410941           0.084961  \n",
       "4          0.228958          0.262134             0.332049           0.088699  "
      ]
     },
     "execution_count": 455,
     "metadata": {},
     "output_type": "execute_result"
    }
   ],
   "source": [
    "HJB_relative_error_df.head()"
   ]
  },
  {
   "cell_type": "code",
   "execution_count": 456,
   "id": "0fab5e02-562a-4d0d-9c70-6438ed12ad70",
   "metadata": {},
   "outputs": [
    {
     "data": {
      "text/html": [
       "<div>\n",
       "<style scoped>\n",
       "    .dataframe tbody tr th:only-of-type {\n",
       "        vertical-align: middle;\n",
       "    }\n",
       "\n",
       "    .dataframe tbody tr th {\n",
       "        vertical-align: top;\n",
       "    }\n",
       "\n",
       "    .dataframe thead th {\n",
       "        text-align: right;\n",
       "    }\n",
       "</style>\n",
       "<table border=\"1\" class=\"dataframe\">\n",
       "  <thead>\n",
       "    <tr style=\"text-align: right;\">\n",
       "      <th></th>\n",
       "      <th>step</th>\n",
       "      <th>relative_error_1</th>\n",
       "      <th>relative_error_2</th>\n",
       "      <th>relative_error_3</th>\n",
       "      <th>relative_error_4</th>\n",
       "      <th>relative_error_5</th>\n",
       "      <th>relative_error_mean</th>\n",
       "      <th>relative_error_sd</th>\n",
       "    </tr>\n",
       "  </thead>\n",
       "  <tbody>\n",
       "    <tr>\n",
       "      <th>16</th>\n",
       "      <td>1600</td>\n",
       "      <td>0.001826</td>\n",
       "      <td>0.001994</td>\n",
       "      <td>0.001940</td>\n",
       "      <td>0.002029</td>\n",
       "      <td>0.001694</td>\n",
       "      <td>0.001897</td>\n",
       "      <td>0.000123</td>\n",
       "    </tr>\n",
       "    <tr>\n",
       "      <th>17</th>\n",
       "      <td>1700</td>\n",
       "      <td>0.002125</td>\n",
       "      <td>0.002506</td>\n",
       "      <td>0.001750</td>\n",
       "      <td>0.002578</td>\n",
       "      <td>0.001879</td>\n",
       "      <td>0.002168</td>\n",
       "      <td>0.000329</td>\n",
       "    </tr>\n",
       "    <tr>\n",
       "      <th>18</th>\n",
       "      <td>1800</td>\n",
       "      <td>0.002262</td>\n",
       "      <td>0.002264</td>\n",
       "      <td>0.002382</td>\n",
       "      <td>0.001918</td>\n",
       "      <td>0.001794</td>\n",
       "      <td>0.002124</td>\n",
       "      <td>0.000227</td>\n",
       "    </tr>\n",
       "    <tr>\n",
       "      <th>19</th>\n",
       "      <td>1900</td>\n",
       "      <td>0.001990</td>\n",
       "      <td>0.001850</td>\n",
       "      <td>0.002138</td>\n",
       "      <td>0.002164</td>\n",
       "      <td>0.001955</td>\n",
       "      <td>0.002019</td>\n",
       "      <td>0.000117</td>\n",
       "    </tr>\n",
       "    <tr>\n",
       "      <th>20</th>\n",
       "      <td>2000</td>\n",
       "      <td>0.002197</td>\n",
       "      <td>0.002088</td>\n",
       "      <td>0.002206</td>\n",
       "      <td>0.002585</td>\n",
       "      <td>0.001221</td>\n",
       "      <td>0.002059</td>\n",
       "      <td>0.000452</td>\n",
       "    </tr>\n",
       "  </tbody>\n",
       "</table>\n",
       "</div>"
      ],
      "text/plain": [
       "    step  relative_error_1  relative_error_2  relative_error_3  \\\n",
       "16  1600          0.001826          0.001994          0.001940   \n",
       "17  1700          0.002125          0.002506          0.001750   \n",
       "18  1800          0.002262          0.002264          0.002382   \n",
       "19  1900          0.001990          0.001850          0.002138   \n",
       "20  2000          0.002197          0.002088          0.002206   \n",
       "\n",
       "    relative_error_4  relative_error_5  relative_error_mean  relative_error_sd  \n",
       "16          0.002029          0.001694             0.001897           0.000123  \n",
       "17          0.002578          0.001879             0.002168           0.000329  \n",
       "18          0.001918          0.001794             0.002124           0.000227  \n",
       "19          0.002164          0.001955             0.002019           0.000117  \n",
       "20          0.002585          0.001221             0.002059           0.000452  "
      ]
     },
     "execution_count": 456,
     "metadata": {},
     "output_type": "execute_result"
    }
   ],
   "source": [
    "HJB_relative_error_df.tail()"
   ]
  },
  {
   "cell_type": "code",
   "execution_count": 457,
   "id": "05eb52a9-5c94-46b0-8248-e33500e70c08",
   "metadata": {},
   "outputs": [
    {
     "data": {
      "image/png": "[encoded data removed]",
      "text/plain": [
       "<Figure size 648x432 with 1 Axes>"
      ]
     },
     "metadata": {
      "needs_background": "light"
     },
     "output_type": "display_data"
    }
   ],
   "source": [
    "plot_RE_mean_std(HJB_relative_error_df, ylabel=\"Relative approximation error\", color1=\"deeppink\", color2=\"plum\")"
   ]
  },
  {
   "cell_type": "markdown",
   "id": "e3b4db5f-388d-41a9-82e4-850b6b5f240e",
   "metadata": {},
   "source": [
    "# Example 3 :"
   ]
  },
  {
   "cell_type": "markdown",
   "id": "e1a37ff5-bb7e-40ca-a496-f662dbc76b57",
   "metadata": {},
   "source": [
    "## Results of Allen-Cahn Equation with 5 different tests independent"
   ]
  },
  {
   "cell_type": "code",
   "execution_count": 459,
   "id": "393a149d-2457-449e-ad70-6077f58b2957",
   "metadata": {},
   "outputs": [
    {
     "data": {
      "text/plain": [
       "(41, 8)"
      ]
     },
     "execution_count": 459,
     "metadata": {},
     "output_type": "execute_result"
    }
   ],
   "source": [
    "AC_data = create_dataset(filename=\"allencahn_d100_result*.csv\")\n",
    "AC_data.shape"
   ]
  },
  {
   "cell_type": "code",
   "execution_count": 460,
   "id": "dff24d57-6d92-4b56-a0ad-c8e4e76de167",
   "metadata": {},
   "outputs": [
    {
     "data": {
      "text/html": [
       "<div>\n",
       "<style scoped>\n",
       "    .dataframe tbody tr th:only-of-type {\n",
       "        vertical-align: middle;\n",
       "    }\n",
       "\n",
       "    .dataframe tbody tr th {\n",
       "        vertical-align: top;\n",
       "    }\n",
       "\n",
       "    .dataframe thead th {\n",
       "        text-align: right;\n",
       "    }\n",
       "</style>\n",
       "<table border=\"1\" class=\"dataframe\">\n",
       "  <thead>\n",
       "    <tr style=\"text-align: right;\">\n",
       "      <th></th>\n",
       "      <th>step</th>\n",
       "      <th>target_value_1</th>\n",
       "      <th>target_value_2</th>\n",
       "      <th>target_value_3</th>\n",
       "      <th>target_value_4</th>\n",
       "      <th>target_value_5</th>\n",
       "      <th>target_value_mean</th>\n",
       "      <th>target_value_sd</th>\n",
       "    </tr>\n",
       "  </thead>\n",
       "  <tbody>\n",
       "    <tr>\n",
       "      <th>0</th>\n",
       "      <td>0</td>\n",
       "      <td>0.461890</td>\n",
       "      <td>0.414772</td>\n",
       "      <td>0.326704</td>\n",
       "      <td>0.358738</td>\n",
       "      <td>0.434122</td>\n",
       "      <td>0.399245</td>\n",
       "      <td>0.049568</td>\n",
       "    </tr>\n",
       "    <tr>\n",
       "      <th>1</th>\n",
       "      <td>100</td>\n",
       "      <td>0.413251</td>\n",
       "      <td>0.366440</td>\n",
       "      <td>0.278810</td>\n",
       "      <td>0.310402</td>\n",
       "      <td>0.385704</td>\n",
       "      <td>0.350921</td>\n",
       "      <td>0.049351</td>\n",
       "    </tr>\n",
       "    <tr>\n",
       "      <th>2</th>\n",
       "      <td>200</td>\n",
       "      <td>0.368728</td>\n",
       "      <td>0.322369</td>\n",
       "      <td>0.236408</td>\n",
       "      <td>0.267099</td>\n",
       "      <td>0.341643</td>\n",
       "      <td>0.307249</td>\n",
       "      <td>0.048624</td>\n",
       "    </tr>\n",
       "    <tr>\n",
       "      <th>3</th>\n",
       "      <td>300</td>\n",
       "      <td>0.327911</td>\n",
       "      <td>0.282373</td>\n",
       "      <td>0.198851</td>\n",
       "      <td>0.228620</td>\n",
       "      <td>0.301225</td>\n",
       "      <td>0.267796</td>\n",
       "      <td>0.047396</td>\n",
       "    </tr>\n",
       "    <tr>\n",
       "      <th>4</th>\n",
       "      <td>400</td>\n",
       "      <td>0.290738</td>\n",
       "      <td>0.246461</td>\n",
       "      <td>0.166546</td>\n",
       "      <td>0.194826</td>\n",
       "      <td>0.264677</td>\n",
       "      <td>0.232650</td>\n",
       "      <td>0.045587</td>\n",
       "    </tr>\n",
       "  </tbody>\n",
       "</table>\n",
       "</div>"
      ],
      "text/plain": [
       "   step  target_value_1  target_value_2  target_value_3  target_value_4  \\\n",
       "0     0        0.461890        0.414772        0.326704        0.358738   \n",
       "1   100        0.413251        0.366440        0.278810        0.310402   \n",
       "2   200        0.368728        0.322369        0.236408        0.267099   \n",
       "3   300        0.327911        0.282373        0.198851        0.228620   \n",
       "4   400        0.290738        0.246461        0.166546        0.194826   \n",
       "\n",
       "   target_value_5  target_value_mean  target_value_sd  \n",
       "0        0.434122           0.399245         0.049568  \n",
       "1        0.385704           0.350921         0.049351  \n",
       "2        0.341643           0.307249         0.048624  \n",
       "3        0.301225           0.267796         0.047396  \n",
       "4        0.264677           0.232650         0.045587  "
      ]
     },
     "execution_count": 460,
     "metadata": {},
     "output_type": "execute_result"
    }
   ],
   "source": [
    "AC_data.head()"
   ]
  },
  {
   "cell_type": "code",
   "execution_count": 461,
   "id": "147385d8-c08d-4938-a2dd-a93928b29fde",
   "metadata": {},
   "outputs": [
    {
     "data": {
      "text/html": [
       "<div>\n",
       "<style scoped>\n",
       "    .dataframe tbody tr th:only-of-type {\n",
       "        vertical-align: middle;\n",
       "    }\n",
       "\n",
       "    .dataframe tbody tr th {\n",
       "        vertical-align: top;\n",
       "    }\n",
       "\n",
       "    .dataframe thead th {\n",
       "        text-align: right;\n",
       "    }\n",
       "</style>\n",
       "<table border=\"1\" class=\"dataframe\">\n",
       "  <thead>\n",
       "    <tr style=\"text-align: right;\">\n",
       "      <th></th>\n",
       "      <th>step</th>\n",
       "      <th>target_value_1</th>\n",
       "      <th>target_value_2</th>\n",
       "      <th>target_value_3</th>\n",
       "      <th>target_value_4</th>\n",
       "      <th>target_value_5</th>\n",
       "      <th>target_value_mean</th>\n",
       "      <th>target_value_sd</th>\n",
       "    </tr>\n",
       "  </thead>\n",
       "  <tbody>\n",
       "    <tr>\n",
       "      <th>36</th>\n",
       "      <td>3600</td>\n",
       "      <td>0.052849</td>\n",
       "      <td>0.052881</td>\n",
       "      <td>0.053137</td>\n",
       "      <td>0.053135</td>\n",
       "      <td>0.053006</td>\n",
       "      <td>0.053002</td>\n",
       "      <td>0.000122</td>\n",
       "    </tr>\n",
       "    <tr>\n",
       "      <th>37</th>\n",
       "      <td>3700</td>\n",
       "      <td>0.052854</td>\n",
       "      <td>0.052940</td>\n",
       "      <td>0.053136</td>\n",
       "      <td>0.052902</td>\n",
       "      <td>0.053004</td>\n",
       "      <td>0.052967</td>\n",
       "      <td>0.000098</td>\n",
       "    </tr>\n",
       "    <tr>\n",
       "      <th>38</th>\n",
       "      <td>3800</td>\n",
       "      <td>0.052806</td>\n",
       "      <td>0.053049</td>\n",
       "      <td>0.053026</td>\n",
       "      <td>0.053064</td>\n",
       "      <td>0.052948</td>\n",
       "      <td>0.052978</td>\n",
       "      <td>0.000095</td>\n",
       "    </tr>\n",
       "    <tr>\n",
       "      <th>39</th>\n",
       "      <td>3900</td>\n",
       "      <td>0.052984</td>\n",
       "      <td>0.052902</td>\n",
       "      <td>0.053152</td>\n",
       "      <td>0.053157</td>\n",
       "      <td>0.052879</td>\n",
       "      <td>0.053015</td>\n",
       "      <td>0.000119</td>\n",
       "    </tr>\n",
       "    <tr>\n",
       "      <th>40</th>\n",
       "      <td>4000</td>\n",
       "      <td>0.052513</td>\n",
       "      <td>0.052927</td>\n",
       "      <td>0.053155</td>\n",
       "      <td>0.052951</td>\n",
       "      <td>0.052866</td>\n",
       "      <td>0.052883</td>\n",
       "      <td>0.000209</td>\n",
       "    </tr>\n",
       "  </tbody>\n",
       "</table>\n",
       "</div>"
      ],
      "text/plain": [
       "    step  target_value_1  target_value_2  target_value_3  target_value_4  \\\n",
       "36  3600        0.052849        0.052881        0.053137        0.053135   \n",
       "37  3700        0.052854        0.052940        0.053136        0.052902   \n",
       "38  3800        0.052806        0.053049        0.053026        0.053064   \n",
       "39  3900        0.052984        0.052902        0.053152        0.053157   \n",
       "40  4000        0.052513        0.052927        0.053155        0.052951   \n",
       "\n",
       "    target_value_5  target_value_mean  target_value_sd  \n",
       "36        0.053006           0.053002         0.000122  \n",
       "37        0.053004           0.052967         0.000098  \n",
       "38        0.052948           0.052978         0.000095  \n",
       "39        0.052879           0.053015         0.000119  \n",
       "40        0.052866           0.052883         0.000209  "
      ]
     },
     "execution_count": 461,
     "metadata": {},
     "output_type": "execute_result"
    }
   ],
   "source": [
    "AC_data.tail()"
   ]
  },
  {
   "cell_type": "code",
   "execution_count": 462,
   "id": "1dc9a9c8-466e-4519-9d74-ec06ccc6817c",
   "metadata": {},
   "outputs": [],
   "source": [
    "# fonction to calculate the approximation of relative error in the article using means of the branching diffusion method\n",
    "def relative_error_exact_AC(data, size):\n",
    "    v_a = data[\"target_value_mean\"].iloc[size-1]\n",
    "    v_e = 0.0528 # by using means of the branching diﬀusion method, given in article\n",
    "    return abs(v_a - v_e)/v_e"
   ]
  },
  {
   "cell_type": "code",
   "execution_count": 463,
   "id": "ebd8d78f-2096-42b1-abea-1c2dbc1b006c",
   "metadata": {},
   "outputs": [
    {
     "data": {
      "text/plain": [
       "0.0015636363636364083"
      ]
     },
     "execution_count": 463,
     "metadata": {},
     "output_type": "execute_result"
    }
   ],
   "source": [
    "relative_error_exact_AC(AC_data, size = AC_data.shape[0])"
   ]
  },
  {
   "cell_type": "code",
   "execution_count": 464,
   "id": "ec00eeb2-681d-4f1e-8540-018f19b28d84",
   "metadata": {},
   "outputs": [
    {
     "name": "stdout",
     "output_type": "stream",
     "text": [
      "Total execution time for 5 runs (the last one) is : 787s\n"
     ]
    }
   ],
   "source": [
    "# total execution time for 5 runs (in seconds)\n",
    "t = total_time_execution_last(filename=\"allencahn_d100_result*.csv\")\n",
    "print(\"Total execution time for 5 runs (the last one) is : {}s\".format(t))"
   ]
  },
  {
   "cell_type": "code",
   "execution_count": 465,
   "id": "1afe0306-d265-478f-b409-ab45bb2e71db",
   "metadata": {},
   "outputs": [
    {
     "data": {
      "image/png": "[encoded data removed]",
      "text/plain": [
       "<Figure size 648x432 with 1 Axes>"
      ]
     },
     "metadata": {
      "needs_background": "light"
     },
     "output_type": "display_data"
    }
   ],
   "source": [
    "plot_mean_std(AC_data, ylabel=\"$u(t=0.3, x=(0,...,0))$\", color1=\"seagreen\", color2=\"lightblue\")"
   ]
  },
  {
   "cell_type": "code",
   "execution_count": 466,
   "id": "94a833e2-9352-4af9-8aea-c613d123f1bc",
   "metadata": {},
   "outputs": [],
   "source": [
    "# Plot the mean and +- sd with different time t\n",
    "def plot_mean_std_time(data, t=0.3, ylabel=\"$u(t, x=(0,...,0))$\", color1=\"green\"):\n",
    "    plt.figure(figsize=(9,6))\n",
    "    xmin, xmax = plt.xlim()\n",
    "    I = AC_data.shape[0]\n",
    "    h = t/(I-1)\n",
    "    x = h*np.arange(0, (I))\n",
    "    y = data['target_value_mean']\n",
    "    error = data['target_value_sd']\n",
    "    plt.plot(x, y, linewidth=3, marker=\"o\", color=color1)\n",
    "    plt.xlabel('t')\n",
    "    plt.ylabel(ylabel)"
   ]
  },
  {
   "cell_type": "code",
   "execution_count": 467,
   "id": "8f56859f-1121-44ea-8a1a-2d7645254866",
   "metadata": {},
   "outputs": [
    {
     "data": {
      "image/png": "[encoded data removed]",
      "text/plain": [
       "<Figure size 648x432 with 1 Axes>"
      ]
     },
     "metadata": {
      "needs_background": "light"
     },
     "output_type": "display_data"
    }
   ],
   "source": [
    "plot_mean_std_time(AC_data)"
   ]
  },
  {
   "cell_type": "markdown",
   "id": "f2368314-33e1-4c81-9f75-726cb9697e07",
   "metadata": {},
   "source": [
    "## Study the relative error of Allen-Cahn Equation with 5 different runs"
   ]
  },
  {
   "cell_type": "code",
   "execution_count": 469,
   "id": "d38ab9a8-45d3-47a5-9ddc-553241fd3b44",
   "metadata": {},
   "outputs": [
    {
     "data": {
      "text/plain": [
       "(41, 8)"
      ]
     },
     "execution_count": 469,
     "metadata": {},
     "output_type": "execute_result"
    }
   ],
   "source": [
    "v_exact = 0.0528 # by using means of the branching diﬀusion method, given in article\n",
    "AC_relative_error_df = create_dataset_relative_error(filename=\"allencahn_d100_result*.csv\", v_exact=v_exact)\n",
    "AC_relative_error_df.shape"
   ]
  },
  {
   "cell_type": "code",
   "execution_count": 470,
   "id": "e5b1d3a7-db12-402b-a1c4-1f5883a330cb",
   "metadata": {},
   "outputs": [
    {
     "data": {
      "text/html": [
       "<div>\n",
       "<style scoped>\n",
       "    .dataframe tbody tr th:only-of-type {\n",
       "        vertical-align: middle;\n",
       "    }\n",
       "\n",
       "    .dataframe tbody tr th {\n",
       "        vertical-align: top;\n",
       "    }\n",
       "\n",
       "    .dataframe thead th {\n",
       "        text-align: right;\n",
       "    }\n",
       "</style>\n",
       "<table border=\"1\" class=\"dataframe\">\n",
       "  <thead>\n",
       "    <tr style=\"text-align: right;\">\n",
       "      <th></th>\n",
       "      <th>step</th>\n",
       "      <th>relative_error_1</th>\n",
       "      <th>relative_error_2</th>\n",
       "      <th>relative_error_3</th>\n",
       "      <th>relative_error_4</th>\n",
       "      <th>relative_error_5</th>\n",
       "      <th>relative_error_mean</th>\n",
       "      <th>relative_error_sd</th>\n",
       "    </tr>\n",
       "  </thead>\n",
       "  <tbody>\n",
       "    <tr>\n",
       "      <th>0</th>\n",
       "      <td>0</td>\n",
       "      <td>7.747917</td>\n",
       "      <td>6.855530</td>\n",
       "      <td>5.187576</td>\n",
       "      <td>5.794280</td>\n",
       "      <td>7.222008</td>\n",
       "      <td>6.561462</td>\n",
       "      <td>0.938787</td>\n",
       "    </tr>\n",
       "    <tr>\n",
       "      <th>1</th>\n",
       "      <td>100</td>\n",
       "      <td>6.826723</td>\n",
       "      <td>5.940152</td>\n",
       "      <td>4.280492</td>\n",
       "      <td>4.878826</td>\n",
       "      <td>6.305000</td>\n",
       "      <td>5.646239</td>\n",
       "      <td>0.934674</td>\n",
       "    </tr>\n",
       "    <tr>\n",
       "      <th>2</th>\n",
       "      <td>200</td>\n",
       "      <td>5.983485</td>\n",
       "      <td>5.105473</td>\n",
       "      <td>3.477424</td>\n",
       "      <td>4.058693</td>\n",
       "      <td>5.470511</td>\n",
       "      <td>4.819117</td>\n",
       "      <td>0.920918</td>\n",
       "    </tr>\n",
       "    <tr>\n",
       "      <th>3</th>\n",
       "      <td>300</td>\n",
       "      <td>5.210436</td>\n",
       "      <td>4.347973</td>\n",
       "      <td>2.766117</td>\n",
       "      <td>3.329924</td>\n",
       "      <td>4.705019</td>\n",
       "      <td>4.071894</td>\n",
       "      <td>0.897654</td>\n",
       "    </tr>\n",
       "    <tr>\n",
       "      <th>4</th>\n",
       "      <td>400</td>\n",
       "      <td>4.506402</td>\n",
       "      <td>3.667822</td>\n",
       "      <td>2.154280</td>\n",
       "      <td>2.689886</td>\n",
       "      <td>4.012822</td>\n",
       "      <td>3.406242</td>\n",
       "      <td>0.863399</td>\n",
       "    </tr>\n",
       "  </tbody>\n",
       "</table>\n",
       "</div>"
      ],
      "text/plain": [
       "   step  relative_error_1  relative_error_2  relative_error_3  \\\n",
       "0     0          7.747917          6.855530          5.187576   \n",
       "1   100          6.826723          5.940152          4.280492   \n",
       "2   200          5.983485          5.105473          3.477424   \n",
       "3   300          5.210436          4.347973          2.766117   \n",
       "4   400          4.506402          3.667822          2.154280   \n",
       "\n",
       "   relative_error_4  relative_error_5  relative_error_mean  relative_error_sd  \n",
       "0          5.794280          7.222008             6.561462           0.938787  \n",
       "1          4.878826          6.305000             5.646239           0.934674  \n",
       "2          4.058693          5.470511             4.819117           0.920918  \n",
       "3          3.329924          4.705019             4.071894           0.897654  \n",
       "4          2.689886          4.012822             3.406242           0.863399  "
      ]
     },
     "execution_count": 470,
     "metadata": {},
     "output_type": "execute_result"
    }
   ],
   "source": [
    "AC_relative_error_df.head()"
   ]
  },
  {
   "cell_type": "code",
   "execution_count": 471,
   "id": "e2a3e639-9b25-4bfc-95a5-ca420f97e264",
   "metadata": {},
   "outputs": [
    {
     "data": {
      "text/html": [
       "<div>\n",
       "<style scoped>\n",
       "    .dataframe tbody tr th:only-of-type {\n",
       "        vertical-align: middle;\n",
       "    }\n",
       "\n",
       "    .dataframe tbody tr th {\n",
       "        vertical-align: top;\n",
       "    }\n",
       "\n",
       "    .dataframe thead th {\n",
       "        text-align: right;\n",
       "    }\n",
       "</style>\n",
       "<table border=\"1\" class=\"dataframe\">\n",
       "  <thead>\n",
       "    <tr style=\"text-align: right;\">\n",
       "      <th></th>\n",
       "      <th>step</th>\n",
       "      <th>relative_error_1</th>\n",
       "      <th>relative_error_2</th>\n",
       "      <th>relative_error_3</th>\n",
       "      <th>relative_error_4</th>\n",
       "      <th>relative_error_5</th>\n",
       "      <th>relative_error_mean</th>\n",
       "      <th>relative_error_sd</th>\n",
       "    </tr>\n",
       "  </thead>\n",
       "  <tbody>\n",
       "    <tr>\n",
       "      <th>36</th>\n",
       "      <td>3600</td>\n",
       "      <td>0.000936</td>\n",
       "      <td>0.001544</td>\n",
       "      <td>0.006384</td>\n",
       "      <td>0.006352</td>\n",
       "      <td>0.003898</td>\n",
       "      <td>0.003823</td>\n",
       "      <td>0.002302</td>\n",
       "    </tr>\n",
       "    <tr>\n",
       "      <th>37</th>\n",
       "      <td>3700</td>\n",
       "      <td>0.001019</td>\n",
       "      <td>0.002659</td>\n",
       "      <td>0.006364</td>\n",
       "      <td>0.001932</td>\n",
       "      <td>0.003866</td>\n",
       "      <td>0.003168</td>\n",
       "      <td>0.001850</td>\n",
       "    </tr>\n",
       "    <tr>\n",
       "      <th>38</th>\n",
       "      <td>3800</td>\n",
       "      <td>0.000108</td>\n",
       "      <td>0.004712</td>\n",
       "      <td>0.004273</td>\n",
       "      <td>0.004996</td>\n",
       "      <td>0.002811</td>\n",
       "      <td>0.003380</td>\n",
       "      <td>0.001801</td>\n",
       "    </tr>\n",
       "    <tr>\n",
       "      <th>39</th>\n",
       "      <td>3900</td>\n",
       "      <td>0.003477</td>\n",
       "      <td>0.001939</td>\n",
       "      <td>0.006672</td>\n",
       "      <td>0.006767</td>\n",
       "      <td>0.001487</td>\n",
       "      <td>0.004069</td>\n",
       "      <td>0.002263</td>\n",
       "    </tr>\n",
       "    <tr>\n",
       "      <th>40</th>\n",
       "      <td>4000</td>\n",
       "      <td>0.005432</td>\n",
       "      <td>0.002407</td>\n",
       "      <td>0.006725</td>\n",
       "      <td>0.002866</td>\n",
       "      <td>0.001252</td>\n",
       "      <td>0.003736</td>\n",
       "      <td>0.002025</td>\n",
       "    </tr>\n",
       "  </tbody>\n",
       "</table>\n",
       "</div>"
      ],
      "text/plain": [
       "    step  relative_error_1  relative_error_2  relative_error_3  \\\n",
       "36  3600          0.000936          0.001544          0.006384   \n",
       "37  3700          0.001019          0.002659          0.006364   \n",
       "38  3800          0.000108          0.004712          0.004273   \n",
       "39  3900          0.003477          0.001939          0.006672   \n",
       "40  4000          0.005432          0.002407          0.006725   \n",
       "\n",
       "    relative_error_4  relative_error_5  relative_error_mean  relative_error_sd  \n",
       "36          0.006352          0.003898             0.003823           0.002302  \n",
       "37          0.001932          0.003866             0.003168           0.001850  \n",
       "38          0.004996          0.002811             0.003380           0.001801  \n",
       "39          0.006767          0.001487             0.004069           0.002263  \n",
       "40          0.002866          0.001252             0.003736           0.002025  "
      ]
     },
     "execution_count": 471,
     "metadata": {},
     "output_type": "execute_result"
    }
   ],
   "source": [
    "AC_relative_error_df.tail()"
   ]
  },
  {
   "cell_type": "code",
   "execution_count": 472,
   "id": "e193faf4-68d0-4ad8-9b2c-54c7cc649db7",
   "metadata": {},
   "outputs": [
    {
     "data": {
      "image/png": "[encoded data removed]",
      "text/plain": [
       "<Figure size 648x432 with 1 Axes>"
      ]
     },
     "metadata": {
      "needs_background": "light"
     },
     "output_type": "display_data"
    }
   ],
   "source": [
    "plot_RE_mean_std(AC_relative_error_df, ylabel=\"Relative approximation error\", color1=\"deeppink\", color2=\"plum\")"
   ]
  },
  {
   "cell_type": "markdown",
   "id": "e1ab1dda-c5bc-4483-afe7-d5a8c4c6a17b",
   "metadata": {},
   "source": [
    "# Example 4 :"
   ]
  },
  {
   "cell_type": "markdown",
   "id": "b32ba72d-f929-4ec8-8d45-6508c8e28792",
   "metadata": {},
   "source": [
    "## Pricing of European ﬁnancial derivatives with diﬀerent interest rates for borrowing and lending"
   ]
  },
  {
   "cell_type": "markdown",
   "id": "21cc6c75-f17c-43c3-b0fb-b0328d7f7d93",
   "metadata": {},
   "source": [
    "### Results of 5 different tests independent"
   ]
  },
  {
   "cell_type": "code",
   "execution_count": 474,
   "id": "9bed2211-cfeb-46ab-a63e-c9fbccabf3ce",
   "metadata": {},
   "outputs": [
    {
     "data": {
      "text/plain": [
       "(41, 8)"
      ]
     },
     "execution_count": 474,
     "metadata": {},
     "output_type": "execute_result"
    }
   ],
   "source": [
    "DiffRate_data = create_dataset(filename=\"pricing_diffrate_d100_result*.csv\")\n",
    "DiffRate_data.shape"
   ]
  },
  {
   "cell_type": "code",
   "execution_count": 475,
   "id": "b637a699-68be-47f8-acd3-61532d688201",
   "metadata": {},
   "outputs": [
    {
     "data": {
      "text/html": [
       "<div>\n",
       "<style scoped>\n",
       "    .dataframe tbody tr th:only-of-type {\n",
       "        vertical-align: middle;\n",
       "    }\n",
       "\n",
       "    .dataframe tbody tr th {\n",
       "        vertical-align: top;\n",
       "    }\n",
       "\n",
       "    .dataframe thead th {\n",
       "        text-align: right;\n",
       "    }\n",
       "</style>\n",
       "<table border=\"1\" class=\"dataframe\">\n",
       "  <thead>\n",
       "    <tr style=\"text-align: right;\">\n",
       "      <th></th>\n",
       "      <th>step</th>\n",
       "      <th>target_value_1</th>\n",
       "      <th>target_value_2</th>\n",
       "      <th>target_value_3</th>\n",
       "      <th>target_value_4</th>\n",
       "      <th>target_value_5</th>\n",
       "      <th>target_value_mean</th>\n",
       "      <th>target_value_sd</th>\n",
       "    </tr>\n",
       "  </thead>\n",
       "  <tbody>\n",
       "    <tr>\n",
       "      <th>0</th>\n",
       "      <td>0</td>\n",
       "      <td>15.4576</td>\n",
       "      <td>16.9495</td>\n",
       "      <td>15.1271</td>\n",
       "      <td>16.8318</td>\n",
       "      <td>15.7580</td>\n",
       "      <td>16.02480</td>\n",
       "      <td>0.735538</td>\n",
       "    </tr>\n",
       "    <tr>\n",
       "      <th>1</th>\n",
       "      <td>100</td>\n",
       "      <td>15.9431</td>\n",
       "      <td>17.4465</td>\n",
       "      <td>15.6167</td>\n",
       "      <td>17.3025</td>\n",
       "      <td>16.2425</td>\n",
       "      <td>16.51026</td>\n",
       "      <td>0.734303</td>\n",
       "    </tr>\n",
       "    <tr>\n",
       "      <th>2</th>\n",
       "      <td>200</td>\n",
       "      <td>16.4096</td>\n",
       "      <td>17.9076</td>\n",
       "      <td>16.0927</td>\n",
       "      <td>17.7712</td>\n",
       "      <td>16.7133</td>\n",
       "      <td>16.97888</td>\n",
       "      <td>0.730783</td>\n",
       "    </tr>\n",
       "    <tr>\n",
       "      <th>3</th>\n",
       "      <td>300</td>\n",
       "      <td>16.8584</td>\n",
       "      <td>18.3265</td>\n",
       "      <td>16.5424</td>\n",
       "      <td>18.1934</td>\n",
       "      <td>17.1539</td>\n",
       "      <td>17.41492</td>\n",
       "      <td>0.717795</td>\n",
       "    </tr>\n",
       "    <tr>\n",
       "      <th>4</th>\n",
       "      <td>400</td>\n",
       "      <td>17.2833</td>\n",
       "      <td>18.7197</td>\n",
       "      <td>16.9657</td>\n",
       "      <td>18.5820</td>\n",
       "      <td>17.5796</td>\n",
       "      <td>17.82606</td>\n",
       "      <td>0.702223</td>\n",
       "    </tr>\n",
       "  </tbody>\n",
       "</table>\n",
       "</div>"
      ],
      "text/plain": [
       "   step  target_value_1  target_value_2  target_value_3  target_value_4  \\\n",
       "0     0         15.4576         16.9495         15.1271         16.8318   \n",
       "1   100         15.9431         17.4465         15.6167         17.3025   \n",
       "2   200         16.4096         17.9076         16.0927         17.7712   \n",
       "3   300         16.8584         18.3265         16.5424         18.1934   \n",
       "4   400         17.2833         18.7197         16.9657         18.5820   \n",
       "\n",
       "   target_value_5  target_value_mean  target_value_sd  \n",
       "0         15.7580           16.02480         0.735538  \n",
       "1         16.2425           16.51026         0.734303  \n",
       "2         16.7133           16.97888         0.730783  \n",
       "3         17.1539           17.41492         0.717795  \n",
       "4         17.5796           17.82606         0.702223  "
      ]
     },
     "execution_count": 475,
     "metadata": {},
     "output_type": "execute_result"
    }
   ],
   "source": [
    "DiffRate_data.head()"
   ]
  },
  {
   "cell_type": "code",
   "execution_count": 476,
   "id": "4ae4f551-eb5f-4fd2-9775-bf9cb655280a",
   "metadata": {},
   "outputs": [
    {
     "data": {
      "text/html": [
       "<div>\n",
       "<style scoped>\n",
       "    .dataframe tbody tr th:only-of-type {\n",
       "        vertical-align: middle;\n",
       "    }\n",
       "\n",
       "    .dataframe tbody tr th {\n",
       "        vertical-align: top;\n",
       "    }\n",
       "\n",
       "    .dataframe thead th {\n",
       "        text-align: right;\n",
       "    }\n",
       "</style>\n",
       "<table border=\"1\" class=\"dataframe\">\n",
       "  <thead>\n",
       "    <tr style=\"text-align: right;\">\n",
       "      <th></th>\n",
       "      <th>step</th>\n",
       "      <th>target_value_1</th>\n",
       "      <th>target_value_2</th>\n",
       "      <th>target_value_3</th>\n",
       "      <th>target_value_4</th>\n",
       "      <th>target_value_5</th>\n",
       "      <th>target_value_mean</th>\n",
       "      <th>target_value_sd</th>\n",
       "    </tr>\n",
       "  </thead>\n",
       "  <tbody>\n",
       "    <tr>\n",
       "      <th>36</th>\n",
       "      <td>3600</td>\n",
       "      <td>21.2385</td>\n",
       "      <td>21.2589</td>\n",
       "      <td>21.2798</td>\n",
       "      <td>21.2670</td>\n",
       "      <td>21.3025</td>\n",
       "      <td>21.26934</td>\n",
       "      <td>0.021329</td>\n",
       "    </tr>\n",
       "    <tr>\n",
       "      <th>37</th>\n",
       "      <td>3700</td>\n",
       "      <td>21.2319</td>\n",
       "      <td>21.2785</td>\n",
       "      <td>21.2649</td>\n",
       "      <td>21.1740</td>\n",
       "      <td>21.2901</td>\n",
       "      <td>21.24788</td>\n",
       "      <td>0.041769</td>\n",
       "    </tr>\n",
       "    <tr>\n",
       "      <th>38</th>\n",
       "      <td>3800</td>\n",
       "      <td>21.2782</td>\n",
       "      <td>21.2901</td>\n",
       "      <td>21.2383</td>\n",
       "      <td>21.1889</td>\n",
       "      <td>21.3037</td>\n",
       "      <td>21.25984</td>\n",
       "      <td>0.041648</td>\n",
       "    </tr>\n",
       "    <tr>\n",
       "      <th>39</th>\n",
       "      <td>3900</td>\n",
       "      <td>21.2582</td>\n",
       "      <td>21.2357</td>\n",
       "      <td>21.2333</td>\n",
       "      <td>21.2244</td>\n",
       "      <td>21.3218</td>\n",
       "      <td>21.25468</td>\n",
       "      <td>0.035360</td>\n",
       "    </tr>\n",
       "    <tr>\n",
       "      <th>40</th>\n",
       "      <td>4000</td>\n",
       "      <td>21.2534</td>\n",
       "      <td>21.2204</td>\n",
       "      <td>21.2689</td>\n",
       "      <td>21.2789</td>\n",
       "      <td>21.3377</td>\n",
       "      <td>21.27186</td>\n",
       "      <td>0.038424</td>\n",
       "    </tr>\n",
       "  </tbody>\n",
       "</table>\n",
       "</div>"
      ],
      "text/plain": [
       "    step  target_value_1  target_value_2  target_value_3  target_value_4  \\\n",
       "36  3600         21.2385         21.2589         21.2798         21.2670   \n",
       "37  3700         21.2319         21.2785         21.2649         21.1740   \n",
       "38  3800         21.2782         21.2901         21.2383         21.1889   \n",
       "39  3900         21.2582         21.2357         21.2333         21.2244   \n",
       "40  4000         21.2534         21.2204         21.2689         21.2789   \n",
       "\n",
       "    target_value_5  target_value_mean  target_value_sd  \n",
       "36         21.3025           21.26934         0.021329  \n",
       "37         21.2901           21.24788         0.041769  \n",
       "38         21.3037           21.25984         0.041648  \n",
       "39         21.3218           21.25468         0.035360  \n",
       "40         21.3377           21.27186         0.038424  "
      ]
     },
     "execution_count": 476,
     "metadata": {},
     "output_type": "execute_result"
    }
   ],
   "source": [
    "DiffRate_data.tail()"
   ]
  },
  {
   "cell_type": "code",
   "execution_count": 477,
   "id": "6671d210-e2df-4006-885d-2ea5564b7200",
   "metadata": {},
   "outputs": [],
   "source": [
    "# fonction to calculate the approximation of relative error in the article using means of the branching diffusion method\n",
    "def relative_error_exact_DiffRate(data, size):\n",
    "    v_a = data[\"target_value_mean\"].iloc[size-1]\n",
    "    v_e = 21.299 # by using means of the multilevel Picard method, given in article\n",
    "    return abs(v_a - v_e)/v_e"
   ]
  },
  {
   "cell_type": "code",
   "execution_count": 478,
   "id": "aa732215-846c-47ae-95b4-1869cd0bf064",
   "metadata": {},
   "outputs": [
    {
     "data": {
      "text/plain": [
       "0.0012742382271467804"
      ]
     },
     "execution_count": 478,
     "metadata": {},
     "output_type": "execute_result"
    }
   ],
   "source": [
    "relative_error_exact_DiffRate(DiffRate_data, size = DiffRate_data.shape[0])"
   ]
  },
  {
   "cell_type": "code",
   "execution_count": 479,
   "id": "90ac2faf-5093-4737-b876-e73a2e7d706c",
   "metadata": {},
   "outputs": [
    {
     "name": "stdout",
     "output_type": "stream",
     "text": [
      "Total execution time for 5 runs (the last one) is : 852s\n"
     ]
    }
   ],
   "source": [
    "# total execution time for 5 runs (in seconds)\n",
    "t = total_time_execution_last(filename=\"pricing_diffrate_d100_result*.csv\")\n",
    "print(\"Total execution time for 5 runs (the last one) is : {}s\".format(t))"
   ]
  },
  {
   "cell_type": "code",
   "execution_count": 480,
   "id": "6476a3b8-2623-4d66-846c-3c87e90d833e",
   "metadata": {},
   "outputs": [
    {
     "data": {
      "image/png": "[encoded data removed]",
      "text/plain": [
       "<Figure size 648x432 with 1 Axes>"
      ]
     },
     "metadata": {
      "needs_background": "light"
     },
     "output_type": "display_data"
    }
   ],
   "source": [
    "plot_mean_std(DiffRate_data, ylabel=\"$u(t=0, x=(100,...,100))$\", color1=\"seagreen\", color2=\"lightblue\")"
   ]
  },
  {
   "cell_type": "markdown",
   "id": "69a7964c-9be1-47e8-b808-4f352881d5d9",
   "metadata": {},
   "source": [
    "### Loss function dataset for DiffRate"
   ]
  },
  {
   "cell_type": "code",
   "execution_count": 481,
   "id": "ebdeff0d-3d42-4143-86bc-10091be88c4a",
   "metadata": {},
   "outputs": [],
   "source": [
    "def create_dataset_loss(filename):\n",
    "    path = \"logs/\"\n",
    "    list_files = sorted(glob.glob(path + filename))\n",
    "\n",
    "    df = []\n",
    "    for file in list_files:\n",
    "        read_f = pd.read_csv(file)\n",
    "        read_f = read_f.drop(['target_value', 'elapsed_time'], axis=1)\n",
    "        df.append(read_f)\n",
    "    \n",
    "    col = [\"step\"]\n",
    "    data = pd.DataFrame(columns = col)\n",
    "\n",
    "    for file in df:\n",
    "        data = data.merge(file, on=['step'], how='outer', suffixes=('_x', '_y'))\n",
    "\n",
    "    data.columns = ['step','loss_1', 'loss_2',\n",
    "              'loss_3', 'loss_4', 'loss_5']\n",
    "\n",
    "    data['loss_mean'] = data.loc[: , data.columns != 'step'].mean(axis=1)\n",
    "    data['loss_sd'] = data.loc[: , data.columns != 'step'].std(axis=1)\n",
    "\n",
    "    return data"
   ]
  },
  {
   "cell_type": "code",
   "execution_count": 483,
   "id": "a50d1172-3f26-4feb-b017-40823e06dd76",
   "metadata": {},
   "outputs": [
    {
     "data": {
      "text/plain": [
       "(41, 8)"
      ]
     },
     "execution_count": 483,
     "metadata": {},
     "output_type": "execute_result"
    }
   ],
   "source": [
    "DiffRate_loss_data = create_dataset_loss(filename=\"pricing_diffrate_d100_result*.csv\")\n",
    "DiffRate_loss_data.shape"
   ]
  },
  {
   "cell_type": "code",
   "execution_count": 484,
   "id": "56058a79-7787-473e-aa58-ea063ab80869",
   "metadata": {},
   "outputs": [
    {
     "data": {
      "text/html": [
       "<div>\n",
       "<style scoped>\n",
       "    .dataframe tbody tr th:only-of-type {\n",
       "        vertical-align: middle;\n",
       "    }\n",
       "\n",
       "    .dataframe tbody tr th {\n",
       "        vertical-align: top;\n",
       "    }\n",
       "\n",
       "    .dataframe thead th {\n",
       "        text-align: right;\n",
       "    }\n",
       "</style>\n",
       "<table border=\"1\" class=\"dataframe\">\n",
       "  <thead>\n",
       "    <tr style=\"text-align: right;\">\n",
       "      <th></th>\n",
       "      <th>step</th>\n",
       "      <th>loss_1</th>\n",
       "      <th>loss_2</th>\n",
       "      <th>loss_3</th>\n",
       "      <th>loss_4</th>\n",
       "      <th>loss_5</th>\n",
       "      <th>loss_mean</th>\n",
       "      <th>loss_sd</th>\n",
       "    </tr>\n",
       "  </thead>\n",
       "  <tbody>\n",
       "    <tr>\n",
       "      <th>0</th>\n",
       "      <td>0</td>\n",
       "      <td>67.2343</td>\n",
       "      <td>56.7013</td>\n",
       "      <td>71.2614</td>\n",
       "      <td>50.0893</td>\n",
       "      <td>67.8615</td>\n",
       "      <td>62.62956</td>\n",
       "      <td>7.943398</td>\n",
       "    </tr>\n",
       "    <tr>\n",
       "      <th>1</th>\n",
       "      <td>100</td>\n",
       "      <td>61.4333</td>\n",
       "      <td>52.2714</td>\n",
       "      <td>65.5284</td>\n",
       "      <td>45.6765</td>\n",
       "      <td>62.3579</td>\n",
       "      <td>57.45350</td>\n",
       "      <td>7.357280</td>\n",
       "    </tr>\n",
       "    <tr>\n",
       "      <th>2</th>\n",
       "      <td>200</td>\n",
       "      <td>56.4770</td>\n",
       "      <td>48.9526</td>\n",
       "      <td>60.5166</td>\n",
       "      <td>41.9672</td>\n",
       "      <td>57.4041</td>\n",
       "      <td>53.06350</td>\n",
       "      <td>6.724119</td>\n",
       "    </tr>\n",
       "    <tr>\n",
       "      <th>3</th>\n",
       "      <td>300</td>\n",
       "      <td>52.0737</td>\n",
       "      <td>46.2505</td>\n",
       "      <td>56.2584</td>\n",
       "      <td>38.9023</td>\n",
       "      <td>53.3224</td>\n",
       "      <td>49.36146</td>\n",
       "      <td>6.159305</td>\n",
       "    </tr>\n",
       "    <tr>\n",
       "      <th>4</th>\n",
       "      <td>400</td>\n",
       "      <td>48.2786</td>\n",
       "      <td>44.0141</td>\n",
       "      <td>52.6942</td>\n",
       "      <td>36.3887</td>\n",
       "      <td>49.7245</td>\n",
       "      <td>46.22002</td>\n",
       "      <td>5.656060</td>\n",
       "    </tr>\n",
       "  </tbody>\n",
       "</table>\n",
       "</div>"
      ],
      "text/plain": [
       "   step   loss_1   loss_2   loss_3   loss_4   loss_5  loss_mean   loss_sd\n",
       "0     0  67.2343  56.7013  71.2614  50.0893  67.8615   62.62956  7.943398\n",
       "1   100  61.4333  52.2714  65.5284  45.6765  62.3579   57.45350  7.357280\n",
       "2   200  56.4770  48.9526  60.5166  41.9672  57.4041   53.06350  6.724119\n",
       "3   300  52.0737  46.2505  56.2584  38.9023  53.3224   49.36146  6.159305\n",
       "4   400  48.2786  44.0141  52.6942  36.3887  49.7245   46.22002  5.656060"
      ]
     },
     "execution_count": 484,
     "metadata": {},
     "output_type": "execute_result"
    }
   ],
   "source": [
    "DiffRate_loss_data.head()"
   ]
  },
  {
   "cell_type": "code",
   "execution_count": 485,
   "id": "e6d06472-51e8-487b-88f5-04d7e6850770",
   "metadata": {},
   "outputs": [
    {
     "data": {
      "text/html": [
       "<div>\n",
       "<style scoped>\n",
       "    .dataframe tbody tr th:only-of-type {\n",
       "        vertical-align: middle;\n",
       "    }\n",
       "\n",
       "    .dataframe tbody tr th {\n",
       "        vertical-align: top;\n",
       "    }\n",
       "\n",
       "    .dataframe thead th {\n",
       "        text-align: right;\n",
       "    }\n",
       "</style>\n",
       "<table border=\"1\" class=\"dataframe\">\n",
       "  <thead>\n",
       "    <tr style=\"text-align: right;\">\n",
       "      <th></th>\n",
       "      <th>step</th>\n",
       "      <th>loss_1</th>\n",
       "      <th>loss_2</th>\n",
       "      <th>loss_3</th>\n",
       "      <th>loss_4</th>\n",
       "      <th>loss_5</th>\n",
       "      <th>loss_mean</th>\n",
       "      <th>loss_sd</th>\n",
       "    </tr>\n",
       "  </thead>\n",
       "  <tbody>\n",
       "    <tr>\n",
       "      <th>36</th>\n",
       "      <td>3600</td>\n",
       "      <td>31.6545</td>\n",
       "      <td>37.6328</td>\n",
       "      <td>37.5512</td>\n",
       "      <td>27.6331</td>\n",
       "      <td>33.8136</td>\n",
       "      <td>33.65704</td>\n",
       "      <td>3.776074</td>\n",
       "    </tr>\n",
       "    <tr>\n",
       "      <th>37</th>\n",
       "      <td>3700</td>\n",
       "      <td>31.6380</td>\n",
       "      <td>37.6059</td>\n",
       "      <td>37.5509</td>\n",
       "      <td>27.7625</td>\n",
       "      <td>33.8192</td>\n",
       "      <td>33.67530</td>\n",
       "      <td>3.731016</td>\n",
       "    </tr>\n",
       "    <tr>\n",
       "      <th>38</th>\n",
       "      <td>3800</td>\n",
       "      <td>31.6076</td>\n",
       "      <td>37.5816</td>\n",
       "      <td>37.5331</td>\n",
       "      <td>27.8104</td>\n",
       "      <td>33.8076</td>\n",
       "      <td>33.66806</td>\n",
       "      <td>3.710296</td>\n",
       "    </tr>\n",
       "    <tr>\n",
       "      <th>39</th>\n",
       "      <td>3900</td>\n",
       "      <td>31.6436</td>\n",
       "      <td>37.5927</td>\n",
       "      <td>37.5967</td>\n",
       "      <td>27.8183</td>\n",
       "      <td>33.7761</td>\n",
       "      <td>33.68548</td>\n",
       "      <td>3.719282</td>\n",
       "    </tr>\n",
       "    <tr>\n",
       "      <th>40</th>\n",
       "      <td>4000</td>\n",
       "      <td>31.6986</td>\n",
       "      <td>37.6492</td>\n",
       "      <td>37.6874</td>\n",
       "      <td>27.8609</td>\n",
       "      <td>33.5728</td>\n",
       "      <td>33.69378</td>\n",
       "      <td>3.731279</td>\n",
       "    </tr>\n",
       "  </tbody>\n",
       "</table>\n",
       "</div>"
      ],
      "text/plain": [
       "    step   loss_1   loss_2   loss_3   loss_4   loss_5  loss_mean   loss_sd\n",
       "36  3600  31.6545  37.6328  37.5512  27.6331  33.8136   33.65704  3.776074\n",
       "37  3700  31.6380  37.6059  37.5509  27.7625  33.8192   33.67530  3.731016\n",
       "38  3800  31.6076  37.5816  37.5331  27.8104  33.8076   33.66806  3.710296\n",
       "39  3900  31.6436  37.5927  37.5967  27.8183  33.7761   33.68548  3.719282\n",
       "40  4000  31.6986  37.6492  37.6874  27.8609  33.5728   33.69378  3.731279"
      ]
     },
     "execution_count": 485,
     "metadata": {},
     "output_type": "execute_result"
    }
   ],
   "source": [
    "DiffRate_loss_data.tail()"
   ]
  },
  {
   "cell_type": "code",
   "execution_count": 486,
   "id": "0f70160f-3626-452c-a24f-b57c21d79755",
   "metadata": {},
   "outputs": [],
   "source": [
    "# Plot the mean and +- sd of loss function\n",
    "def plot_mean_std_loss(data, ylabel=\"$u(t=0, x=(100,...,100))$\", color1=\"r\", color2=\"lightsalmon\"):\n",
    "    plt.figure(figsize=(9,6))\n",
    "    xmin, xmax = plt.xlim()\n",
    "    x = data['step']\n",
    "    y = data['loss_mean']\n",
    "    error = data['loss_sd']\n",
    "    plt.plot(x, y, linewidth=2.5, color=color1)\n",
    "    plt.fill_between(x, y-error, y+error, color=color2)\n",
    "    plt.xlabel('Number of iteration steps')\n",
    "    plt.ylabel(ylabel)"
   ]
  },
  {
   "cell_type": "code",
   "execution_count": 487,
   "id": "59f5cb7b-3d7b-4007-8295-250498d5bdb2",
   "metadata": {},
   "outputs": [
    {
     "data": {
      "image/png": "[encoded data removed]",
      "text/plain": [
       "<Figure size 648x432 with 1 Axes>"
      ]
     },
     "metadata": {
      "needs_background": "light"
     },
     "output_type": "display_data"
    }
   ],
   "source": [
    "plot_mean_std_loss(DiffRate_loss_data, ylabel=\"Loss\", color1=\"blue\", color2=\"skyblue\")"
   ]
  },
  {
   "cell_type": "markdown",
   "id": "5b07f8a2-7890-48c0-ba5b-ab75e7ca6d3b",
   "metadata": {},
   "source": [
    "## Study the relative error of Diff-Rate Equation with 5 different runs"
   ]
  },
  {
   "cell_type": "code",
   "execution_count": 489,
   "id": "3d55c2a0-bc34-4054-ad30-4cc30985c166",
   "metadata": {},
   "outputs": [
    {
     "data": {
      "text/plain": [
       "(41, 8)"
      ]
     },
     "execution_count": 489,
     "metadata": {},
     "output_type": "execute_result"
    }
   ],
   "source": [
    "v_exact = 21.299 # by using means of the multilevel Picard method, given in article\n",
    "DiffRate_relative_error_df = create_dataset_relative_error(filename=\"pricing_diffrate_d100_result*.csv\", v_exact=v_exact)\n",
    "DiffRate_relative_error_df.shape"
   ]
  },
  {
   "cell_type": "code",
   "execution_count": 490,
   "id": "b32a65dd-b6b2-4018-9d96-633f4dda859e",
   "metadata": {},
   "outputs": [
    {
     "data": {
      "text/html": [
       "<div>\n",
       "<style scoped>\n",
       "    .dataframe tbody tr th:only-of-type {\n",
       "        vertical-align: middle;\n",
       "    }\n",
       "\n",
       "    .dataframe tbody tr th {\n",
       "        vertical-align: top;\n",
       "    }\n",
       "\n",
       "    .dataframe thead th {\n",
       "        text-align: right;\n",
       "    }\n",
       "</style>\n",
       "<table border=\"1\" class=\"dataframe\">\n",
       "  <thead>\n",
       "    <tr style=\"text-align: right;\">\n",
       "      <th></th>\n",
       "      <th>step</th>\n",
       "      <th>relative_error_1</th>\n",
       "      <th>relative_error_2</th>\n",
       "      <th>relative_error_3</th>\n",
       "      <th>relative_error_4</th>\n",
       "      <th>relative_error_5</th>\n",
       "      <th>relative_error_mean</th>\n",
       "      <th>relative_error_sd</th>\n",
       "    </tr>\n",
       "  </thead>\n",
       "  <tbody>\n",
       "    <tr>\n",
       "      <th>0</th>\n",
       "      <td>0</td>\n",
       "      <td>0.274257</td>\n",
       "      <td>0.204211</td>\n",
       "      <td>0.289774</td>\n",
       "      <td>0.209738</td>\n",
       "      <td>0.260153</td>\n",
       "      <td>0.247627</td>\n",
       "      <td>0.034534</td>\n",
       "    </tr>\n",
       "    <tr>\n",
       "      <th>1</th>\n",
       "      <td>100</td>\n",
       "      <td>0.251463</td>\n",
       "      <td>0.180877</td>\n",
       "      <td>0.266787</td>\n",
       "      <td>0.187638</td>\n",
       "      <td>0.237406</td>\n",
       "      <td>0.224834</td>\n",
       "      <td>0.034476</td>\n",
       "    </tr>\n",
       "    <tr>\n",
       "      <th>2</th>\n",
       "      <td>200</td>\n",
       "      <td>0.229560</td>\n",
       "      <td>0.159228</td>\n",
       "      <td>0.244439</td>\n",
       "      <td>0.165632</td>\n",
       "      <td>0.215301</td>\n",
       "      <td>0.202832</td>\n",
       "      <td>0.034311</td>\n",
       "    </tr>\n",
       "    <tr>\n",
       "      <th>3</th>\n",
       "      <td>300</td>\n",
       "      <td>0.208489</td>\n",
       "      <td>0.139561</td>\n",
       "      <td>0.223325</td>\n",
       "      <td>0.145810</td>\n",
       "      <td>0.194615</td>\n",
       "      <td>0.182360</td>\n",
       "      <td>0.033701</td>\n",
       "    </tr>\n",
       "    <tr>\n",
       "      <th>4</th>\n",
       "      <td>400</td>\n",
       "      <td>0.188539</td>\n",
       "      <td>0.121100</td>\n",
       "      <td>0.203451</td>\n",
       "      <td>0.127565</td>\n",
       "      <td>0.174628</td>\n",
       "      <td>0.163056</td>\n",
       "      <td>0.032970</td>\n",
       "    </tr>\n",
       "  </tbody>\n",
       "</table>\n",
       "</div>"
      ],
      "text/plain": [
       "   step  relative_error_1  relative_error_2  relative_error_3  \\\n",
       "0     0          0.274257          0.204211          0.289774   \n",
       "1   100          0.251463          0.180877          0.266787   \n",
       "2   200          0.229560          0.159228          0.244439   \n",
       "3   300          0.208489          0.139561          0.223325   \n",
       "4   400          0.188539          0.121100          0.203451   \n",
       "\n",
       "   relative_error_4  relative_error_5  relative_error_mean  relative_error_sd  \n",
       "0          0.209738          0.260153             0.247627           0.034534  \n",
       "1          0.187638          0.237406             0.224834           0.034476  \n",
       "2          0.165632          0.215301             0.202832           0.034311  \n",
       "3          0.145810          0.194615             0.182360           0.033701  \n",
       "4          0.127565          0.174628             0.163056           0.032970  "
      ]
     },
     "execution_count": 490,
     "metadata": {},
     "output_type": "execute_result"
    }
   ],
   "source": [
    "DiffRate_relative_error_df.head()"
   ]
  },
  {
   "cell_type": "code",
   "execution_count": 491,
   "id": "303d910e-bb1f-4f43-9f29-8ea4504bed63",
   "metadata": {},
   "outputs": [
    {
     "data": {
      "text/html": [
       "<div>\n",
       "<style scoped>\n",
       "    .dataframe tbody tr th:only-of-type {\n",
       "        vertical-align: middle;\n",
       "    }\n",
       "\n",
       "    .dataframe tbody tr th {\n",
       "        vertical-align: top;\n",
       "    }\n",
       "\n",
       "    .dataframe thead th {\n",
       "        text-align: right;\n",
       "    }\n",
       "</style>\n",
       "<table border=\"1\" class=\"dataframe\">\n",
       "  <thead>\n",
       "    <tr style=\"text-align: right;\">\n",
       "      <th></th>\n",
       "      <th>step</th>\n",
       "      <th>relative_error_1</th>\n",
       "      <th>relative_error_2</th>\n",
       "      <th>relative_error_3</th>\n",
       "      <th>relative_error_4</th>\n",
       "      <th>relative_error_5</th>\n",
       "      <th>relative_error_mean</th>\n",
       "      <th>relative_error_sd</th>\n",
       "    </tr>\n",
       "  </thead>\n",
       "  <tbody>\n",
       "    <tr>\n",
       "      <th>36</th>\n",
       "      <td>3600</td>\n",
       "      <td>0.002841</td>\n",
       "      <td>0.001883</td>\n",
       "      <td>0.000901</td>\n",
       "      <td>0.001502</td>\n",
       "      <td>0.000164</td>\n",
       "      <td>0.001458</td>\n",
       "      <td>0.000903</td>\n",
       "    </tr>\n",
       "    <tr>\n",
       "      <th>37</th>\n",
       "      <td>3700</td>\n",
       "      <td>0.003150</td>\n",
       "      <td>0.000962</td>\n",
       "      <td>0.001601</td>\n",
       "      <td>0.005869</td>\n",
       "      <td>0.000418</td>\n",
       "      <td>0.002400</td>\n",
       "      <td>0.001961</td>\n",
       "    </tr>\n",
       "    <tr>\n",
       "      <th>38</th>\n",
       "      <td>3800</td>\n",
       "      <td>0.000977</td>\n",
       "      <td>0.000418</td>\n",
       "      <td>0.002850</td>\n",
       "      <td>0.005169</td>\n",
       "      <td>0.000221</td>\n",
       "      <td>0.001927</td>\n",
       "      <td>0.001868</td>\n",
       "    </tr>\n",
       "    <tr>\n",
       "      <th>39</th>\n",
       "      <td>3900</td>\n",
       "      <td>0.001916</td>\n",
       "      <td>0.002972</td>\n",
       "      <td>0.003085</td>\n",
       "      <td>0.003503</td>\n",
       "      <td>0.001070</td>\n",
       "      <td>0.002509</td>\n",
       "      <td>0.000889</td>\n",
       "    </tr>\n",
       "    <tr>\n",
       "      <th>40</th>\n",
       "      <td>4000</td>\n",
       "      <td>0.002141</td>\n",
       "      <td>0.003690</td>\n",
       "      <td>0.001413</td>\n",
       "      <td>0.000944</td>\n",
       "      <td>0.001817</td>\n",
       "      <td>0.002001</td>\n",
       "      <td>0.000935</td>\n",
       "    </tr>\n",
       "  </tbody>\n",
       "</table>\n",
       "</div>"
      ],
      "text/plain": [
       "    step  relative_error_1  relative_error_2  relative_error_3  \\\n",
       "36  3600          0.002841          0.001883          0.000901   \n",
       "37  3700          0.003150          0.000962          0.001601   \n",
       "38  3800          0.000977          0.000418          0.002850   \n",
       "39  3900          0.001916          0.002972          0.003085   \n",
       "40  4000          0.002141          0.003690          0.001413   \n",
       "\n",
       "    relative_error_4  relative_error_5  relative_error_mean  relative_error_sd  \n",
       "36          0.001502          0.000164             0.001458           0.000903  \n",
       "37          0.005869          0.000418             0.002400           0.001961  \n",
       "38          0.005169          0.000221             0.001927           0.001868  \n",
       "39          0.003503          0.001070             0.002509           0.000889  \n",
       "40          0.000944          0.001817             0.002001           0.000935  "
      ]
     },
     "execution_count": 491,
     "metadata": {},
     "output_type": "execute_result"
    }
   ],
   "source": [
    "DiffRate_relative_error_df.tail()"
   ]
  },
  {
   "cell_type": "code",
   "execution_count": 492,
   "id": "a186d67f-a3a4-4261-ac91-42b279f6dcaa",
   "metadata": {},
   "outputs": [
    {
     "data": {
      "image/png": "[encoded data removed]",
      "text/plain": [
       "<Figure size 648x432 with 1 Axes>"
      ]
     },
     "metadata": {
      "needs_background": "light"
     },
     "output_type": "display_data"
    }
   ],
   "source": [
    "plot_RE_mean_std(DiffRate_relative_error_df, ylabel=\"Relative approximation error\", color1=\"deeppink\", color2=\"plum\")"
   ]
  },
  {
   "cell_type": "code",
   "execution_count": null,
   "id": "2a12cff4-3199-4f49-b594-8ff9c12f8990",
   "metadata": {},
   "outputs": [],
   "source": []
  }
 ],
 "metadata": {
  "kernelspec": {
   "display_name": "Python 3 (ipykernel)",
   "language": "python",
   "name": "python3"
  },
  "language_info": {
   "codemirror_mode": {
    "name": "ipython",
    "version": 3
   },
   "file_extension": ".py",
   "mimetype": "text/x-python",
   "name": "python",
   "nbconvert_exporter": "python",
   "pygments_lexer": "ipython3",
   "version": "3.9.7"
  }
 },
 "nbformat": 4,
 "nbformat_minor": 5
}
